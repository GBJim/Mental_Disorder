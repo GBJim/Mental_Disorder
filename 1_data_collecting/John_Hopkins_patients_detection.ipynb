{
 "cells": [
  {
   "cell_type": "code",
   "execution_count": 1,
   "metadata": {
    "collapsed": true
   },
   "outputs": [],
   "source": [
    "from pymongo import MongoClient\n",
    "\n",
    "def verify(text, matchers, de_matchers):\n",
    "\tfor de_mactcher in de_matchers:\n",
    "\t\t\tif de_mactcher in text:\n",
    "\t\t\t\treturn False\n",
    "\n",
    "\tfor matcher in matchers:\n",
    "\t\t\tif matcher in text:\n",
    "\t\t\t\treturn True\n",
    "\treturn False \n",
    "\n",
    "\n",
    "\n",
    "\n",
    "def getPatientsTweets(collection):\n",
    "\tprint(\"Connecting to {}\".format(collection.db))\n",
    "\tpatients_tweets = []\n",
    "\tmatchers = [\"I was diagnosed\", \"I am diagnosed\"]\n",
    "\tde_matchers = [\"RT @\"]\n",
    "\n",
    "\tfor tweet in collection.find({\"lang\": 'en'}):\n",
    "\t\ttext = tweet['text']\n",
    "\n",
    "\t\tif verify(text, matchers, de_matchers):\n",
    "\t\t\tpatients_tweets.append(tweet)\n",
    "\t\t\tif len(patients_tweets) % 10 == 1:\n",
    "\t\t\t\tprint(text)\n",
    "\t\t\t\n",
    "\n",
    "\n",
    "\t\t\n",
    "\treturn patients_tweets\n",
    "\n",
    "\n",
    "def insertTweets(tweets, collectionName):\n",
    "\tcollection = MongoClient(\"localhost\", 27017)[\"idea\"][collectionName]\n",
    "\tcollection.insert(tweets)\n",
    "\tprint(\"{} tweets inserted\".format(len(tweets)))\n",
    "\n",
    "def writeTweets(tweets, file_name):\n",
    "\tw = open(file_name, 'w')\n",
    "\tfor tweet in tweets:\n",
    "\t\tuser_id = tweet['user']['id']\n",
    "\t\tuser_name = tweet['user']['screen_name']\n",
    "\t\ttext = tweet['text']\n",
    "\t\tw.write(\"{}\\t{}\\t{}\\n\".format(text,user_name,user_id))\n",
    "\tw.close()\n",
    "\n",
    "\n",
    "def disorderDetect(tweets, matchers):\n",
    "\tpostive_tweets = []\n",
    "\tfor tweet in tweets:\n",
    "\t\ttext = tweet['text'].lower()\n",
    "\t\tif verify(text, matchers,[]):\n",
    "\t\t\tpostive_tweets.append(tweet)\n",
    "\treturn postive_tweets\n",
    "\n",
    "\n",
    "\n",
    "\n",
    "\n",
    "#collection = MongoClient('140.114.77.23',27017)['idea']['test']\n",
    "\n",
    "\n",
    "\n",
    "\n",
    "#insertTweets(patients_tweets, \"paitents_tweets\")\n",
    "\n",
    "#matchers = ['bipolar','MDD', 'depressive','bpd','ptsd','sad','depression']\n",
    "#postive_tweets = disorderDetect(patients_tweets, matchers)"
   ]
  },
  {
   "cell_type": "code",
   "execution_count": 2,
   "metadata": {
    "collapsed": false
   },
   "outputs": [
    {
     "name": "stdout",
     "output_type": "stream",
     "text": [
      "Connecting to Collection(Database(MongoClient('localhost', 27017), 'idea'), 'BPD_581_emotion.db')\n",
      "@cjwingyorks You have my empathy, it's so hard. I was diagnosed 04, but am managing to keep smiling &amp; I hope it rubs off on others :) xx\n",
      "@thelifeofhannah I was diagnosed with anxiety&amp;depression at 18 and I've just been diagnosed with BPD at 35 🙇\n",
      "how many people are misdiagnosed as having bipolar, depression etc and are really borderline.  I was diagnosed as bipolar for 15 yrs\n",
      "@BeautifullyBPD I didnt, I was diagnosed bipolar n I kept feelin worse n meds werent helpin. 4therapist later I heard bpd for the first time\n",
      "@BorderlineBelle I was diagnosed last year so it's all fairly new to me. Thank you for caring. Xxxxx\n",
      "@HealingFromBPD I'm 21 n I was diagnosed with bpd a month after I turned 21 in November 2014\n"
     ]
    }
   ],
   "source": [
    "collection = MongoClient('localhost',27017)['idea']['BPD_581_emotion']\n",
    "patients_tweets = getPatientsTweets(collection)"
   ]
  },
  {
   "cell_type": "code",
   "execution_count": 13,
   "metadata": {
    "collapsed": false
   },
   "outputs": [],
   "source": [
    "w = open(\"diagonosis_proof.tsv\", \"w\")\n",
    "\n",
    "\n",
    "for tweet in patients_tweets:\n",
    "    \n",
    "    w.write(\"\\t\" + tweet[\"text\"].replace(\"\\n\",\" \").replace(\"\\t\",\" \") + \"\\t\")\n",
    "    w.write(tweet[\"user\"][\"screen_name\"] + \"\\t\")\n",
    "    w.write(str(tweet[\"user\"][\"id\"]) + \"\\n\")\n",
    "w.close()"
   ]
  },
  {
   "cell_type": "code",
   "execution_count": null,
   "metadata": {
    "collapsed": true
   },
   "outputs": [],
   "source": []
  }
 ],
 "metadata": {
  "kernelspec": {
   "display_name": "Python 3",
   "language": "python",
   "name": "python3"
  },
  "language_info": {
   "codemirror_mode": {
    "name": "ipython",
    "version": 3
   },
   "file_extension": ".py",
   "mimetype": "text/x-python",
   "name": "python",
   "nbconvert_exporter": "python",
   "pygments_lexer": "ipython3",
   "version": "3.4.0"
  }
 },
 "nbformat": 4,
 "nbformat_minor": 0
}
