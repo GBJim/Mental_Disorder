{
 "cells": [
  {
   "cell_type": "code",
   "execution_count": 88,
   "metadata": {
    "collapsed": true
   },
   "outputs": [],
   "source": [
    "from idCrawler import getUserProfile\n",
    "from pymongo import MongoClient\n",
    "from idCrawler import getTweets\n",
    "import json\n",
    "from urllib.request import urlopen"
   ]
  },
  {
   "cell_type": "code",
   "execution_count": 67,
   "metadata": {
    "collapsed": true
   },
   "outputs": [],
   "source": [
    "def patientsReader_bipolar(file_name,keywords=[\"borderline\",\"bpd\"]):\n",
    "    f = open(file_name, 'r')\n",
    "    patient_ids = {}\n",
    "    valid_conditions = ['o','p','c']\n",
    "    for line in f:\n",
    "        try:\n",
    "            segments = line.strip().split(\"\\t\")\n",
    "            condition = segments[0].lower()\n",
    "            description = segments[1].lower()\n",
    "            screen_name = segments[2]\n",
    "            user_id = segments[3]\n",
    "            \n",
    "        except:\n",
    "            print(line)\n",
    "            return patient_ids\n",
    "        if condition in valid_conditions:\n",
    "            if any(keyword in description for keyword in keywords):\n",
    "                patient_ids[user_id] = 'c'\n",
    "            else:\n",
    "                patient_ids[user_id] = 'o'\n",
    "       \n",
    "        \n",
    "    return patient_ids"
   ]
  },
  {
   "cell_type": "code",
   "execution_count": 92,
   "metadata": {
    "collapsed": false
   },
   "outputs": [],
   "source": [
    "def patientsReader_BPD(file_name, keywords = [\"bipolar\"]):\n",
    "    f = open(file_name, 'r')\n",
    "    patient_ids = {}\n",
    "    for line in f:\n",
    "        try:\n",
    "            segments = line.strip().split(\"\\t\")\n",
    "            condition = segments[0]\n",
    "            description = segments[1].lower()\n",
    "            user_id = segments[2]\n",
    "            \n",
    "        except:\n",
    "            print(line)\n",
    "            return patient_ids\n",
    "        if condition == 'o' or condition == 'O' or condition == 'p':\n",
    "            if any(keyword in description for keyword in keywords):\n",
    "                patient_ids[user_id] = 'c'\n",
    "            else:\n",
    "                patient_ids[user_id] = 'o'\n",
    "            \n",
    "        \n",
    "    return patient_ids\n",
    "def writeUsers(tweets, dbName, collectionName):\n",
    "    collection = MongoClient(\"localhost\", 27017)[dbName][collectionName]\n",
    "    collection.insert(tweets)\n",
    "    print(\"{} tweets inserted\".format(len(tweets)))\n",
    "    \n",
    "def sentiment_analyize(tweets):\n",
    "    payload = {\"data\": [],\"language\": \"en\"}\n",
    "    \n",
    "    for tweet in tweets:\n",
    "        payload[\"data\"].append({\"text\": tweet[\"text\"],\"id\": tweet[\"id\"]})\n",
    "    \n",
    "    payload = json.dumps(payload).encode('utf-8')\n",
    "    response = urlopen('http://www.sentiment140.com/api/bulkClassifyJson?appid=ccha97u@gmail.com', payload) # request to server\n",
    "    results = response.read().decode('\"ISO-8859-1\"') # get the response\n",
    "    results = json.loads(results)['data']\n",
    "    for i,result in enumerate(results):\n",
    "       \n",
    "        if result['polarity'] == 0:\n",
    "            tweets[i][\"polarity\"] = \"negative\"\n",
    "        elif result['polarity'] == 2:\n",
    "            tweets[i][\"polarity\"] = \"neutral\"\n",
    "        elif result['polarity'] == 4:\n",
    "            tweets[i][\"polarity\"] = \"positive\"\n",
    "        else:\n",
    "             tweets[i][\"polarity\"] = \"unknown\"\n",
    "    return tweets\n",
    "\n",
    "\n",
    "def scan_tweets(tweets, bulk_size=10000):\n",
    "\n",
    "    buffer = []\n",
    "    sentiment_tweets = []\n",
    "    for tweet in tweets:\n",
    "        buffer.append(tweet)\n",
    "        if len(buffer) >= bulk_size:\n",
    "            print(\"10000 tweets  processed\")\n",
    "            sentiment_tweets += sentiment_analyize(buffer)\n",
    "            buffer = []\n",
    "    \n",
    "    \n",
    "    sentiment_tweets += sentiment_analyize(buffer)\n",
    "    \n",
    "    return sentiment_tweets"
   ]
  },
  {
   "cell_type": "code",
   "execution_count": 39,
   "metadata": {
    "collapsed": false
   },
   "outputs": [
    {
     "name": "stdout",
     "output_type": "stream",
     "text": [
      "78\n"
     ]
    }
   ],
   "source": [
    "file_location = \"tagged_bpd_descriptions.tsv\"\n",
    "BPD_ids = patientsReader_BPD(file_location)\n",
    "comorbidities_BPD = []\n",
    "for BPD_id, condition in BPD_ids.items():\n",
    "    if condition == 'c':\n",
    "        comorbidities_BPD.append(BPD_id)\n",
    "print(len(comorbidities_BPD))"
   ]
  },
  {
   "cell_type": "code",
   "execution_count": 70,
   "metadata": {
    "collapsed": false
   },
   "outputs": [
    {
     "name": "stdout",
     "output_type": "stream",
     "text": [
      "477\n"
     ]
    }
   ],
   "source": [
    "mix = []\n",
    "file_location = \"bipolar_profile_700_1400.csv\"\n",
    "bipolar_ids = patientsReader_bipolar(file_location)\n",
    "comorbidities_bipolar = []\n",
    "for bipolar_id, condition in bipolar_ids.items():\n",
    "    if condition == 'c':\n",
    "        mix.append(bipolar_id)\n"
   ]
  },
  {
   "cell_type": "code",
   "execution_count": 71,
   "metadata": {
    "collapsed": false
   },
   "outputs": [
    {
     "data": {
      "text/plain": [
       "{'10006872': 'o',\n",
       " '100894411': 'o',\n",
       " '1014282277': 'o',\n",
       " '101816365': 'o',\n",
       " '101893572': 'o',\n",
       " '1022694266': 'o',\n",
       " '1026760129': 'o',\n",
       " '102816119': 'o',\n",
       " '1033700874': 'o',\n",
       " '103754648': 'o',\n",
       " '106416595': 'c',\n",
       " '107041924': 'o',\n",
       " '107584252': 'o',\n",
       " '1076709452': 'o',\n",
       " '1129170108': 'o',\n",
       " '1140014239': 'o',\n",
       " '114022502': 'o',\n",
       " '114352146': 'o',\n",
       " '1145823332': 'o',\n",
       " '1146285583': 'o',\n",
       " '1178821596': 'o',\n",
       " '1183389140': 'o',\n",
       " '120946668': 'o',\n",
       " '1220265109': 'o',\n",
       " '1226140512': 'o',\n",
       " '1229003286': 'o',\n",
       " '123309478': 'o',\n",
       " '1239737869': 'o',\n",
       " '1247935578': 'c',\n",
       " '1249961412': 'o',\n",
       " '1267642878': 'o',\n",
       " '1271233922': 'o',\n",
       " '1291373377': 'o',\n",
       " '1294822856': 'o',\n",
       " '1311593233': 'o',\n",
       " '1318763677': 'o',\n",
       " '132750810': 'o',\n",
       " '1330340192': 'o',\n",
       " '1330363028': 'o',\n",
       " '1350939626': 'o',\n",
       " '1357309405': 'o',\n",
       " '1388135443': 'o',\n",
       " '139835130': 'o',\n",
       " '14078363': 'o',\n",
       " '14243519': 'c',\n",
       " '1436637847': 'o',\n",
       " '1440806754': 'o',\n",
       " '1459083476': 'o',\n",
       " '147393139': 'o',\n",
       " '148718702': 'o',\n",
       " '148748179': 'o',\n",
       " '1503742598': 'o',\n",
       " '15113036': 'o',\n",
       " '1515890040': 'o',\n",
       " '1517018450': 'o',\n",
       " '1529607806': 'o',\n",
       " '153294609': 'o',\n",
       " '1534369584': 'o',\n",
       " '1545678914': 'o',\n",
       " '15583882': 'o',\n",
       " '1579622378': 'o',\n",
       " '15818289': 'o',\n",
       " '15825673': 'o',\n",
       " '1588305354': 'o',\n",
       " '15901012': 'o',\n",
       " '1601738474': 'o',\n",
       " '1647507422': 'o',\n",
       " '1649470854': 'o',\n",
       " '1655289325': 'c',\n",
       " '1655366977': 'o',\n",
       " '16558071': 'o',\n",
       " '1662859214': 'o',\n",
       " '1663129105': 'o',\n",
       " '166691148': 'o',\n",
       " '1668643910': 'o',\n",
       " '1670511583': 'o',\n",
       " '168376627': 'o',\n",
       " '1687390140': 'o',\n",
       " '1689456835': 'o',\n",
       " '1699848468': 'o',\n",
       " '1720773409': 'o',\n",
       " '174164491': 'o',\n",
       " '177560914': 'o',\n",
       " '179409271': 'o',\n",
       " '183959910': 'o',\n",
       " '1856024863': 'o',\n",
       " '18708415': 'o',\n",
       " '1893519818': 'o',\n",
       " '1904967324': 'o',\n",
       " '1917653666': 'o',\n",
       " '192116423': 'o',\n",
       " '192365980': 'c',\n",
       " '1942297195': 'o',\n",
       " '19527431': 'o',\n",
       " '1962364130': 'o',\n",
       " '1970597558': 'o',\n",
       " '198685989': 'o',\n",
       " '201192151': 'o',\n",
       " '20437981': 'o',\n",
       " '204863118': 'o',\n",
       " '205103702': 'o',\n",
       " '206804977': 'o',\n",
       " '20697704': 'o',\n",
       " '20890078': 'o',\n",
       " '20907455': 'o',\n",
       " '21430271': 'c',\n",
       " '21564701': 'o',\n",
       " '21599336': 'o',\n",
       " '2182786830': 'o',\n",
       " '2183997013': 'o',\n",
       " '2198712930': 'o',\n",
       " '220120322': 'o',\n",
       " '2233374368': 'o',\n",
       " '2244568969': 'o',\n",
       " '22451769': 'o',\n",
       " '2251280550': 'o',\n",
       " '22541768': 'o',\n",
       " '22584177': 'o',\n",
       " '2258450588': 'o',\n",
       " '2266843524': 'o',\n",
       " '2273823463': 'o',\n",
       " '2274828693': 'o',\n",
       " '227486614': 'o',\n",
       " '22794984': 'o',\n",
       " '2286202992': 'o',\n",
       " '2291724548': 'o',\n",
       " '2308820851': 'o',\n",
       " '2313014083': 'o',\n",
       " '231435575': 'o',\n",
       " '231665017': 'o',\n",
       " '2318840213': 'o',\n",
       " '2324823112': 'o',\n",
       " '2332903002': 'o',\n",
       " '2334073876': 'o',\n",
       " '2335638266': 'o',\n",
       " '2337315301': 'o',\n",
       " '2340887346': 'o',\n",
       " '234170404': 'o',\n",
       " '234293592': 'o',\n",
       " '2350890141': 'o',\n",
       " '2352067146': 'o',\n",
       " '23528253': 'o',\n",
       " '2353655595': 'o',\n",
       " '2355931732': 'o',\n",
       " '2360532012': 'o',\n",
       " '2376258739': 'o',\n",
       " '2376933990': 'o',\n",
       " '2384433535': 'o',\n",
       " '238643825': 'o',\n",
       " '23945315': 'o',\n",
       " '2411957040': 'o',\n",
       " '2412754053': 'o',\n",
       " '241385513': 'o',\n",
       " '2424087974': 'o',\n",
       " '2425691041': 'o',\n",
       " '2427246457': 'c',\n",
       " '24322646': 'o',\n",
       " '2432521734': 'o',\n",
       " '2439036768': 'o',\n",
       " '244034953': 'c',\n",
       " '2440770891': 'o',\n",
       " '24506740': 'o',\n",
       " '246129896': 'c',\n",
       " '2473403496': 'o',\n",
       " '2493851725': 'o',\n",
       " '2496080484': 'o',\n",
       " '2496457244': 'o',\n",
       " '2499362502': 'o',\n",
       " '2501292559': 'c',\n",
       " '2508649198': 'o',\n",
       " '2509476877': 'o',\n",
       " '2513904160': 'o',\n",
       " '2522062758': 'o',\n",
       " '2525830346': 'o',\n",
       " '2525981414': 'o',\n",
       " '2529551119': 'o',\n",
       " '2530805430': 'o',\n",
       " '2531462476': 'o',\n",
       " '253162243': 'o',\n",
       " '2532494367': 'o',\n",
       " '2539062117': 'o',\n",
       " '2543905722': 'o',\n",
       " '2553485468': 'o',\n",
       " '256324398': 'o',\n",
       " '2563551668': 'o',\n",
       " '2565599916': 'o',\n",
       " '2568722942': 'o',\n",
       " '2568747489': 'o',\n",
       " '2570008560': 'o',\n",
       " '259449160': 'o',\n",
       " '2596886450': 'o',\n",
       " '2600004696': 'o',\n",
       " '260614739': 'o',\n",
       " '261564107': 'o',\n",
       " '2616778064': 'o',\n",
       " '262711847': 'o',\n",
       " '264022059': 'o',\n",
       " '2646420708': 'o',\n",
       " '26649628': 'o',\n",
       " '2665324698': 'o',\n",
       " '2679839065': 'o',\n",
       " '2682251407': 'o',\n",
       " '268351078': 'o',\n",
       " '268880711': 'c',\n",
       " '2692454116': 'o',\n",
       " '2711684604': 'o',\n",
       " '2713405680': 'o',\n",
       " '2716775136': 'o',\n",
       " '2724166617': 'o',\n",
       " '2731390370': 'o',\n",
       " '2738195104': 'o',\n",
       " '2742671314': 'o',\n",
       " '2755191316': 'o',\n",
       " '2756037493': 'o',\n",
       " '2760184926': 'o',\n",
       " '2766403061': 'o',\n",
       " '2767449857': 'o',\n",
       " '2772230418': 'o',\n",
       " '27738316': 'o',\n",
       " '278207770': 'o',\n",
       " '278636752': 'o',\n",
       " '2803285300': 'o',\n",
       " '2804267995': 'o',\n",
       " '2812322546': 'o',\n",
       " '28134107': 'o',\n",
       " '2814834394': 'o',\n",
       " '2820004866': 'o',\n",
       " '282039588': 'o',\n",
       " '2821034217': 'o',\n",
       " '2824284896': 'o',\n",
       " '2827792882': 'o',\n",
       " '284000637': 'c',\n",
       " '2844203609': 'o',\n",
       " '2856186277': 'o',\n",
       " '2861010145': 'o',\n",
       " '2862558424': 'o',\n",
       " '286592197': 'o',\n",
       " '2866640122': 'o',\n",
       " '2867409729': 'o',\n",
       " '2870146821': 'o',\n",
       " '2870677554': 'o',\n",
       " '2879364000': 'o',\n",
       " '2879779066': 'o',\n",
       " '2890188128': 'o',\n",
       " '2899394630': 'o',\n",
       " '2906327774': 'o',\n",
       " '2906980975': 'o',\n",
       " '2909790507': 'o',\n",
       " '291041402': 'o',\n",
       " '291483379': 'o',\n",
       " '2919979032': 'o',\n",
       " '2921022655': 'o',\n",
       " '2922225506': 'o',\n",
       " '2930576907': 'o',\n",
       " '2932838877': 'o',\n",
       " '2936370487': 'o',\n",
       " '2943849813': 'o',\n",
       " '294993455': 'o',\n",
       " '2950280698': 'o',\n",
       " '2957076474': 'o',\n",
       " '2958932872': 'o',\n",
       " '2968385794': 'o',\n",
       " '2980969873': 'o',\n",
       " '2983704582': 'o',\n",
       " '2984442715': 'o',\n",
       " '2985664574': 'o',\n",
       " '2990110114': 'o',\n",
       " '2993899850': 'o',\n",
       " '2997941417': 'o',\n",
       " '3001198516': 'o',\n",
       " '3014259599': 'o',\n",
       " '3016305752': 'o',\n",
       " '3018510586': 'o',\n",
       " '3018679061': 'o',\n",
       " '3021580724': 'o',\n",
       " '3026057642': 'o',\n",
       " '3029977273': 'o',\n",
       " '3031892920': 'o',\n",
       " '3036745019': 'o',\n",
       " '3037442986': 'o',\n",
       " '304020839': 'o',\n",
       " '3041204445': 'o',\n",
       " '3041779551': 'o',\n",
       " '3043357222': 'o',\n",
       " '3046582630': 'o',\n",
       " '3063349663': 'o',\n",
       " '307153568': 'o',\n",
       " '3092052379': 'o',\n",
       " '3095192824': 'o',\n",
       " '309657964': 'o',\n",
       " '3097416946': 'o',\n",
       " '3097925127': 'o',\n",
       " '3115708678': 'o',\n",
       " '3121028046': 'o',\n",
       " '3126320501': 'o',\n",
       " '3139943185': 'o',\n",
       " '314635175': 'o',\n",
       " '3147651641': 'o',\n",
       " '3150900108': 'o',\n",
       " '3151950037': 'o',\n",
       " '3153661174': 'o',\n",
       " '3161656904': 'o',\n",
       " '3162335280': 'o',\n",
       " '3176490022': 'o',\n",
       " '3178345052': 'o',\n",
       " '318762711': 'o',\n",
       " '3190103978': 'c',\n",
       " '3190271468': 'o',\n",
       " '3197857802': 'o',\n",
       " '3197964245': 'o',\n",
       " '3212896319': 'o',\n",
       " '321336997': 'o',\n",
       " '321837876': 'o',\n",
       " '322234216': 'o',\n",
       " '3224549863': 'o',\n",
       " '322678548': 'o',\n",
       " '3232191909': 'o',\n",
       " '3234327127': 'o',\n",
       " '3238259048': 'o',\n",
       " '3238987287': 'o',\n",
       " '3241324762': 'o',\n",
       " '326612855': 'o',\n",
       " '3270577442': 'o',\n",
       " '327749822': 'o',\n",
       " '3289562559': 'o',\n",
       " '3293661979': 'o',\n",
       " '3295868537': 'o',\n",
       " '3299968419': 'o',\n",
       " '3302712243': 'o',\n",
       " '3303752504': 'o',\n",
       " '3319885619': 'o',\n",
       " '3328403333': 'o',\n",
       " '33410892': 'o',\n",
       " '334176928': 'o',\n",
       " '3346569940': 'o',\n",
       " '3362981956': 'o',\n",
       " '3366516627': 'o',\n",
       " '3367338663': 'o',\n",
       " '33794108': 'o',\n",
       " '3395623036': 'o',\n",
       " '341831893': 'o',\n",
       " '342462747': 'o',\n",
       " '343587968': 'o',\n",
       " '344507395': 'o',\n",
       " '348873140': 'o',\n",
       " '35104747': 'o',\n",
       " '354488623': 'o',\n",
       " '35997990': 'o',\n",
       " '36130058': 'o',\n",
       " '36758998': 'o',\n",
       " '368501489': 'o',\n",
       " '370136684': 'o',\n",
       " '372421071': 'o',\n",
       " '37555979': 'o',\n",
       " '37692247': 'o',\n",
       " '387551744': 'o',\n",
       " '390571180': 'o',\n",
       " '391754119': 'o',\n",
       " '39229163': 'o',\n",
       " '392507385': 'o',\n",
       " '393296907': 'o',\n",
       " '394115606': 'o',\n",
       " '39580338': 'o',\n",
       " '398506639': 'o',\n",
       " '400392769': 'o',\n",
       " '403623453': 'o',\n",
       " '408219043': 'o',\n",
       " '410195120': 'o',\n",
       " '416231397': 'o',\n",
       " '41808457': 'o',\n",
       " '42200436': 'o',\n",
       " '423423348': 'o',\n",
       " '425260812': 'o',\n",
       " '425449248': 'o',\n",
       " '426816817': 'o',\n",
       " '430219907': 'o',\n",
       " '43076434': 'o',\n",
       " '431442736': 'o',\n",
       " '441388908': 'o',\n",
       " '44687964': 'o',\n",
       " '44940307': 'o',\n",
       " '459589802': 'o',\n",
       " '46496161': 'o',\n",
       " '470216934': 'o',\n",
       " '473155351': 'o',\n",
       " '477031263': 'o',\n",
       " '479819937': 'o',\n",
       " '480470594': 'o',\n",
       " '482865387': 'o',\n",
       " '483841336': 'o',\n",
       " '48601446': 'o',\n",
       " '493558204': 'o',\n",
       " '499299719': 'o',\n",
       " '504686644': 'o',\n",
       " '508472750': 'o',\n",
       " '512457550': 'o',\n",
       " '514643654': 'o',\n",
       " '515079265': 'o',\n",
       " '519262392': 'c',\n",
       " '521768558': 'o',\n",
       " '52616010': 'o',\n",
       " '529477027': 'o',\n",
       " '533716146': 'o',\n",
       " '539442271': 'o',\n",
       " '539468354': 'o',\n",
       " '542987478': 'o',\n",
       " '548317981': 'o',\n",
       " '551531622': 'o',\n",
       " '553466344': 'o',\n",
       " '564587382': 'o',\n",
       " '56803172': 'o',\n",
       " '56933470': 'o',\n",
       " '575508273': 'o',\n",
       " '583117972': 'o',\n",
       " '585950806': 'o',\n",
       " '59606920': 'o',\n",
       " '597729978': 'o',\n",
       " '608259699': 'o',\n",
       " '612069953': 'o',\n",
       " '613281676': 'o',\n",
       " '613594038': 'o',\n",
       " '616347365': 'o',\n",
       " '624891188': 'o',\n",
       " '632927277': 'o',\n",
       " '63374511': 'o',\n",
       " '636078821': 'o',\n",
       " '636734607': 'o',\n",
       " '65742504': 'o',\n",
       " '67335322': 'o',\n",
       " '69194425': 'c',\n",
       " '704346337': 'o',\n",
       " '704642002': 'o',\n",
       " '705123014': 'o',\n",
       " '715460194': 'o',\n",
       " '721266366': 'o',\n",
       " '72669285': 'o',\n",
       " '732636272': 'o',\n",
       " '736801897': 'o',\n",
       " '741445081': 'o',\n",
       " '741788048': 'o',\n",
       " '747168434': 'o',\n",
       " '748894424': 'o',\n",
       " '750628664': 'o',\n",
       " '753094525': 'o',\n",
       " '755307158': 'o',\n",
       " '766114021': 'o',\n",
       " '77431741': 'o',\n",
       " '774606420': 'o',\n",
       " '77523320': 'c',\n",
       " '79090418': 'o',\n",
       " '805655341': 'o',\n",
       " '809571888': 'o',\n",
       " '820690951': 'o',\n",
       " '855834901': 'o',\n",
       " '857523578': 'o',\n",
       " '86232435': 'o',\n",
       " '874034227': 'o',\n",
       " '884692488': 'o',\n",
       " '88995343': 'o',\n",
       " '89697041': 'o',\n",
       " '89701918': 'o',\n",
       " '907849250': 'o',\n",
       " '90948918': 'o',\n",
       " '910765008': 'o',\n",
       " '9127132': 'o',\n",
       " '92209442': 'o',\n",
       " '93038198': 'o',\n",
       " '93445448': 'o',\n",
       " '939460070': 'o',\n",
       " '94433048': 'o',\n",
       " '960852672': 'o',\n",
       " '97096775': 'o',\n",
       " '981392070': 'o',\n",
       " '985089175': 'o',\n",
       " '9924292': 'o',\n",
       " '997959266': 'o',\n",
       " '999859616': 'o'}"
      ]
     },
     "execution_count": 71,
     "metadata": {},
     "output_type": "execute_result"
    }
   ],
   "source": [
    "bipolar_ids"
   ]
  },
  {
   "cell_type": "code",
   "execution_count": 54,
   "metadata": {
    "collapsed": false
   },
   "outputs": [
    {
     "name": "stdout",
     "output_type": "stream",
     "text": [
      "58439\n",
      "303818\n"
     ]
    }
   ],
   "source": [
    "BPD_clean = {}\n",
    "comorbidity_tweets = {}\n",
    "lost_ids = set()\n",
    "\n",
    "BPD_cursor = MongoClient(\"localhost\", 27017)['idea'][\"BPD_581_emotion\"].find()\n",
    "for tweet in BPD_cursor:\n",
    "    tweet_id = tweet[\"id\"]\n",
    "    user_id = str(tweet[\"user\"][\"id\"])\n",
    "    if user_id in BPD_ids:\n",
    "        condition = BPD_ids[user_id]\n",
    "        if condition == 'c':\n",
    "            comorbidity_tweets[tweet_id] = tweet\n",
    "        else:\n",
    "            BPD_clean[tweet_id] = tweet\n",
    "    else:\n",
    "        lost_ids.add(user_id)\n",
    "        \n",
    "\n",
    "\n",
    "    \n",
    "print(len(comorbidity_tweets))\n",
    "print(len(BPD_clean))"
   ]
  },
  {
   "cell_type": "code",
   "execution_count": 73,
   "metadata": {
    "collapsed": false
   },
   "outputs": [],
   "source": [
    "bipolar_clean = {}\n",
    "mix = {}\n",
    "existing_ids = set()\n",
    "bipolar_cursor = MongoClient(\"localhost\", 27017)['patients'][\"bipolar_clean\"].find()\n",
    "BPD_cursor = MongoClient(\"localhost\", 27017)['patients'][\"BPD_clean\"].find()\n",
    "mix_cursor = MongoClient(\"localhost\", 27017)['patients'][\"mix_clean\"].find()\n",
    "\n",
    "cursors = [bipolar_cursor, BPD_cursor, mix_cursor]\n",
    "for cursor in cursors:\n",
    "    for tweet in cursor:\n",
    "        tweet_id = tweet[\"id\"]\n",
    "        existing_ids.add(tweet_id)\n",
    "\n",
    "\n",
    "\n",
    "\n",
    "\n",
    "\n",
    "\n",
    "\n",
    "\n"
   ]
  },
  {
   "cell_type": "code",
   "execution_count": 74,
   "metadata": {
    "collapsed": false
   },
   "outputs": [
    {
     "data": {
      "text/plain": [
       "582947"
      ]
     },
     "execution_count": 74,
     "metadata": {},
     "output_type": "execute_result"
    }
   ],
   "source": [
    "len(existing_ids)"
   ]
  },
  {
   "cell_type": "code",
   "execution_count": 78,
   "metadata": {
    "collapsed": false
   },
   "outputs": [
    {
     "name": "stdout",
     "output_type": "stream",
     "text": [
      "Fall asleep\n",
      "Fall asleep\n",
      "Fall asleep"
     ]
    },
    {
     "name": "stderr",
     "output_type": "stream",
     "text": [
      "/home/gb/research/Mental_Disorder/1_data_collecting/idCrawler.py:32: UserWarning: Bad Authentication\n",
      "  warn(\"Bad Authentication\")\n",
      "/home/gb/research/Mental_Disorder/1_data_collecting/idCrawler.py:35: UserWarning: 404 not found\n",
      "  warn(\"404 not found\")\n"
     ]
    },
    {
     "name": "stdout",
     "output_type": "stream",
     "text": [
      "\n",
      "Fall asleep\n",
      "Fall asleep\n",
      "Fall asleep\n",
      "Fall asleep\n",
      "Fall asleep\n",
      "Fall asleep\n",
      "Fall asleep\n",
      "Fall asleep\n",
      "Fall asleep\n",
      "Fall asleep\n",
      "Fall asleep\n",
      "Fall asleep\n",
      "Fall asleep\n",
      "Fall asleep\n",
      "Fall asleep\n",
      "Fall asleep\n",
      "Fall asleep\n",
      "Fall asleep\n",
      "Fall asleep\n",
      "Fall asleep\n",
      "Fall asleep\n",
      "Fall asleep\n",
      "Fall asleep\n",
      "Fall asleep\n",
      "Fall asleep\n",
      "Fall asleep\n",
      "Fall asleep\n",
      "Fall asleep\n",
      "Fall asleep\n",
      "Fall asleep\n",
      "Fall asleep\n",
      "Fall asleep\n",
      "Fall asleep\n",
      "Fall asleep\n",
      "Fall asleep\n",
      "Fall asleep\n"
     ]
    },
    {
     "name": "stderr",
     "output_type": "stream",
     "text": [
      "/home/gb/research/Mental_Disorder/1_data_collecting/idCrawler.py:28: UserWarning: Fall asleep\n",
      "  warn(\"Fall asleep\")\n"
     ]
    }
   ],
   "source": [
    "bipolar_tweets = []\n",
    "mix_tweets = []\n",
    "for user_id, condition in bipolar_ids.items():\n",
    "    if condition == 'o':\n",
    "        bipolar_tweets += getTweets(user_id=user_id)\n",
    "    else:\n",
    "        mix_tweets += getTweets(user_id=user_id)"
   ]
  },
  {
   "cell_type": "code",
   "execution_count": 89,
   "metadata": {
    "collapsed": false
   },
   "outputs": [
    {
     "name": "stdout",
     "output_type": "stream",
     "text": [
      "10000 tweets  processed\n",
      "10000 tweets  processed\n",
      "10000 tweets  processed\n",
      "10000 tweets  processed\n",
      "10000 tweets  processed\n",
      "10000 tweets  processed\n",
      "10000 tweets  processed\n",
      "10000 tweets  processed\n",
      "10000 tweets  processed\n",
      "10000 tweets  processed\n",
      "10000 tweets  processed\n",
      "10000 tweets  processed\n",
      "10000 tweets  processed\n",
      "10000 tweets  processed\n",
      "10000 tweets  processed\n",
      "10000 tweets  processed\n",
      "10000 tweets  processed\n",
      "10000 tweets  processed\n",
      "10000 tweets  processed\n",
      "10000 tweets  processed\n",
      "10000 tweets  processed\n",
      "10000 tweets  processed\n",
      "10000 tweets  processed\n",
      "10000 tweets  processed\n",
      "10000 tweets  processed\n",
      "10000 tweets  processed\n",
      "10000 tweets  processed\n",
      "10000 tweets  processed\n",
      "10000 tweets  processed\n",
      "10000 tweets  processed\n",
      "10000 tweets  processed\n"
     ]
    }
   ],
   "source": [
    "polarity_bipolar_tweets = scan_tweets(bipolar_tweets)\n",
    "polarity_mix_tweets = scan_tweets(mix_tweets)"
   ]
  },
  {
   "cell_type": "code",
   "execution_count": 91,
   "metadata": {
    "collapsed": false
   },
   "outputs": [
    {
     "data": {
      "text/plain": [
       "14227"
      ]
     },
     "execution_count": 91,
     "metadata": {},
     "output_type": "execute_result"
    }
   ],
   "source": [
    "len(polarity_mix_tweets)"
   ]
  },
  {
   "cell_type": "code",
   "execution_count": 95,
   "metadata": {
    "collapsed": false
   },
   "outputs": [
    {
     "name": "stdout",
     "output_type": "stream",
     "text": [
      "309130 tweets inserted\n"
     ]
    }
   ],
   "source": [
    "writeUsers(polarity_bipolar_tweets,\"idea\",\"bipolar_polarity\")"
   ]
  },
  {
   "cell_type": "code",
   "execution_count": 56,
   "metadata": {
    "collapsed": false
   },
   "outputs": [
    {
     "name": "stdout",
     "output_type": "stream",
     "text": [
      "61\n"
     ]
    }
   ],
   "source": [
    "overlap_n = 0\n",
    "for user_id in bipolar_ids:\n",
    "    if any(user_id == x for x in BPD_ids):\n",
    "        overlap_n += 1\n",
    "print(overlap_n)"
   ]
  },
  {
   "cell_type": "code",
   "execution_count": 53,
   "metadata": {
    "collapsed": false
   },
   "outputs": [
    {
     "data": {
      "text/plain": [
       "0"
      ]
     },
     "execution_count": 53,
     "metadata": {},
     "output_type": "execute_result"
    }
   ],
   "source": [
    "len(lost_ids)"
   ]
  },
  {
   "cell_type": "code",
   "execution_count": 17,
   "metadata": {
    "collapsed": false
   },
   "outputs": [
    {
     "data": {
      "text/plain": [
       "496"
      ]
     },
     "execution_count": 17,
     "metadata": {},
     "output_type": "execute_result"
    }
   ],
   "source": [
    "len(BPD_patietn_ids)"
   ]
  },
  {
   "cell_type": "code",
   "execution_count": null,
   "metadata": {
    "collapsed": true
   },
   "outputs": [],
   "source": [
    "keywords = [\"bipolar\"]\n",
    "for profile in BPD_profiles:\n",
    "    description = BPD_profiles[\"description\"].lower()\n",
    "    if keywords in description:\n",
    "        BPD_profiles[\"condition\"] = [\"BPD\",\"bipolar\"]\n",
    "    else:\n",
    "        BPD_profiles[\"condition\"] = [\"BPD\"]"
   ]
  },
  {
   "cell_type": "code",
   "execution_count": null,
   "metadata": {
    "collapsed": true
   },
   "outputs": [],
   "source": [
    "bipolar_patietn_ids = set()\n",
    "bipolar_cursor = MongoClient(\"localhost\", 27017)['idea'][\"bipolar_emotion\"].find()\n",
    "for tweet in bipolar_cursor:\n",
    "    user_id = tweet[\"user\"][\"id\"]\n",
    "    bipolar_patietn_ids.add(user_id)\n",
    "bipolar_profiles = []\n",
    "for user_id in bipolar_patietn_ids:\n",
    "    bipolar_profiles += getUserProfile(user_id=user_id)\n",
    "\n",
    "    "
   ]
  },
  {
   "cell_type": "code",
   "execution_count": null,
   "metadata": {
    "collapsed": true
   },
   "outputs": [],
   "source": [
    "keywords = [\"borderline\",\"bpd\"]\n",
    "for profile in bipolar_profiles:\n",
    "    description =bipolarD_profiles[\"description\"].lower()\n",
    "    if keywords in description:\n",
    "        bipolar_profiles[\"condition\"] = [\"BPD\",\"bipolar\"]\n",
    "    else:\n",
    "        bipolar_profiles[\"condition\"] = [\"BPD\"]"
   ]
  },
  {
   "cell_type": "code",
   "execution_count": 79,
   "metadata": {
    "collapsed": false
   },
   "outputs": [
    {
     "data": {
      "text/plain": [
       "4"
      ]
     },
     "execution_count": 79,
     "metadata": {},
     "output_type": "execute_result"
    }
   ],
   "source": [
    "4"
   ]
  },
  {
   "cell_type": "code",
   "execution_count": null,
   "metadata": {
    "collapsed": true
   },
   "outputs": [],
   "source": []
  }
 ],
 "metadata": {
  "kernelspec": {
   "display_name": "Python 3",
   "language": "python",
   "name": "python3"
  },
  "language_info": {
   "codemirror_mode": {
    "name": "ipython",
    "version": 3
   },
   "file_extension": ".py",
   "mimetype": "text/x-python",
   "name": "python",
   "nbconvert_exporter": "python",
   "pygments_lexer": "ipython3",
   "version": "3.4.3"
  }
 },
 "nbformat": 4,
 "nbformat_minor": 0
}
