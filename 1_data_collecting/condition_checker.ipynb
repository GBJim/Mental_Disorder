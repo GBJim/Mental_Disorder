{
 "cells": [
  {
   "cell_type": "code",
   "execution_count": 88,
   "metadata": {
    "collapsed": true
   },
   "outputs": [],
   "source": [
    "from idCrawler import getUserProfile\n",
    "from pymongo import MongoClient\n",
    "from idCrawler import getTweets\n",
    "import json\n",
    "from urllib.request import urlopen"
   ]
  },
  {
   "cell_type": "code",
   "execution_count": 67,
   "metadata": {
    "collapsed": true
   },
   "outputs": [],
   "source": [
    "def patientsReader_bipolar(file_name,keywords=[\"borderline\",\"bpd\"]):\n",
    "    f = open(file_name, 'r')\n",
    "    patient_ids = {}\n",
    "    valid_conditions = ['o','p','c']\n",
    "    for line in f:\n",
    "        try:\n",
    "            segments = line.strip().split(\"\\t\")\n",
    "            condition = segments[0].lower()\n",
    "            description = segments[1].lower()\n",
    "            screen_name = segments[2]\n",
    "            user_id = segments[3]\n",
    "            \n",
    "        except:\n",
    "            print(line)\n",
    "            return patient_ids\n",
    "        if condition in valid_conditions:\n",
    "            if any(keyword in description for keyword in keywords):\n",
    "                patient_ids[user_id] = 'c'\n",
    "            else:\n",
    "                patient_ids[user_id] = 'o'\n",
    "       \n",
    "        \n",
    "    return patient_ids"
   ]
  },
  {
   "cell_type": "code",
   "execution_count": 92,
   "metadata": {
    "collapsed": false
   },
   "outputs": [],
   "source": [
    "def patientsReader_BPD(file_name, keywords = [\"bipolar\"]):\n",
    "    f = open(file_name, 'r')\n",
    "    patient_ids = {}\n",
    "    for line in f:\n",
    "        try:\n",
    "            segments = line.strip().split(\"\\t\")\n",
    "            condition = segments[0]\n",
    "            description = segments[1].lower()\n",
    "            user_id = segments[2]\n",
    "            \n",
    "        except:\n",
    "            print(line)\n",
    "            return patient_ids\n",
    "        if condition == 'o' or condition == 'O' or condition == 'p':\n",
    "            if any(keyword in description for keyword in keywords):\n",
    "                patient_ids[user_id] = 'c'\n",
    "            else:\n",
    "                patient_ids[user_id] = 'o'\n",
    "            \n",
    "        \n",
    "    return patient_ids\n",
    "def writeUsers(tweets, dbName, collectionName):\n",
    "    collection = MongoClient(\"localhost\", 27017)[dbName][collectionName]\n",
    "    collection.insert(tweets)\n",
    "    print(\"{} tweets inserted\".format(len(tweets)))\n",
    "    \n",
    "def sentiment_analyize(tweets):\n",
    "    payload = {\"data\": [],\"language\": \"en\"}\n",
    "    \n",
    "    for tweet in tweets:\n",
    "        payload[\"data\"].append({\"text\": tweet[\"text\"],\"id\": tweet[\"id\"]})\n",
    "    \n",
    "    payload = json.dumps(payload).encode('utf-8')\n",
    "    response = urlopen('http://www.sentiment140.com/api/bulkClassifyJson?appid=ccha97u@gmail.com', payload) # request to server\n",
    "    results = response.read().decode('\"ISO-8859-1\"') # get the response\n",
    "    results = json.loads(results)['data']\n",
    "    for i,result in enumerate(results):\n",
    "       \n",
    "        if result['polarity'] == 0:\n",
    "            tweets[i][\"polarity\"] = \"negative\"\n",
    "        elif result['polarity'] == 2:\n",
    "            tweets[i][\"polarity\"] = \"neutral\"\n",
    "        elif result['polarity'] == 4:\n",
    "            tweets[i][\"polarity\"] = \"positive\"\n",
    "        else:\n",
    "             tweets[i][\"polarity\"] = \"unknown\"\n",
    "    return tweets\n",
    "\n",
    "\n",
    "def scan_tweets(tweets, bulk_size=10000):\n",
    "\n",
    "    buffer = []\n",
    "    sentiment_tweets = []\n",
    "    for tweet in tweets:\n",
    "        buffer.append(tweet)\n",
    "        if len(buffer) >= bulk_size:\n",
    "            print(\"10000 tweets  processed\")\n",
    "            sentiment_tweets += sentiment_analyize(buffer)\n",
    "            buffer = []\n",
    "    \n",
    "    \n",
    "    sentiment_tweets += sentiment_analyize(buffer)\n",
    "    \n",
    "    return sentiment_tweets"
   ]
  },
  {
   "cell_type": "code",
   "execution_count": 119,
   "metadata": {
    "collapsed": false
   },
   "outputs": [
    {
     "name": "stdout",
     "output_type": "stream",
     "text": [
      "22\n",
      "blog from an, clinically cured, experience expert about borderline personality desorder and mentalisation based treatment\n",
      "\n",
      "finding the right in between. positive,insightful &  humor about #recovery #bpd #ptsd #ed #addiction #dbt. i'm a certified recovery coach,peer advocate & writer\n",
      "\n",
      "#bpd can't stop me or you! / martha beck life coach/heartmath certified coach/dbt skills trainer/family & relationship support/motivational speaker\n",
      "\n",
      "i am an author, life bpd & mental health coach working with people with bpd, bpd loved ones & people with mental illness wanting to cope more effectively.\n",
      "\n",
      "#lifecoach #marriage #coaching #mentalhealth #emotionmanagement using #dbt and #christian principles to handle difficult life situations. #bpd\n",
      "\n",
      "hr/recruitment specialist;bpd/ocpd/add/chronic anxiety & depression;phd in chemistry,a recovering perfectionist\n",
      "\n",
      "live,laugh,love xxx helped a loved one recover from bpd. fighting the stigma about mental illness. qualified hypnotherapist xxxx\n",
      "\n",
      "psychotherapeut (hp) mit schwerpunkt auf bps / psychotherapist mainly for bpd\n",
      "\n",
      "clinical psychologist at cuny and nyspi/columbia who treats and studies personality disorders with a focus on borderline personality disorder (#bpd).  #nyc\n",
      "\n",
      "psychotherapist. advocate. mental wellness. dbt. ocd spectrum disorders. trauma. eating disorders. bipolar. depression. borderline. exposure. more.\n",
      "\n",
      "a #storyteller, #performer, #hamiltonfringe, #borderlineme, #lifeskillscoach, #blogger, #counsellor, #socialserviceworker, #artistpainter & a #mom\n",
      "\n",
      "babcp-accred cognitive behavioural (cbt), dialectical behaviour (dbt) & schema therapist. specialises in borderline personality disorder (bpd) and relationships\n",
      "\n",
      "clinical psychology student & support worker for scottish autism. investigating bpd and suicidal ideation. rts are not endorsements; nullius in verba.\n",
      "\n",
      "occupational therapist and phd student (research: integration of physical and mental health). blogging about borderline personality disorder and occupation.\n",
      "\n",
      "find out the latest book and author news along with research and information on borderline personality disorder and related mental health issues.\n",
      "\n",
      "bpdvideo supports family members, partners and friends of people who have bpd. learn about our clinically tested educational bpd video series at:\n",
      "\n",
      "mental health service user researcher, (bpd/iapt/yp) linked to imperial college& anna freud centre, crn, nhs supporter. good coffee addict\n",
      "\n",
      "specialist practioner working in psych liaison. special interest in bpd, clinical supervision and child protection.\n",
      "\n",
      "clinical & developmental psychology phd student studying #bpd in adolescents, hot yoga enthusiast, fashion junkie\n",
      "\n",
      "18. ghs class of 2014. taken by prince charming @xdecyfer . future psychologist .   #bpdawareness\n",
      "\n",
      "mh educator. certified peer specialist. supporting people w/ bpd & their families. #bpdchat, dbt skills, mindfulness, mbt, compassion, suicide prevention.\n",
      "\n",
      "licensed psychologist serving veterans. borderline personality disorder; social media for mh professionals; innovations in mh; opinions are my own\n",
      "\n"
     ]
    }
   ],
   "source": [
    "def expertFilter_BPD(file_name, keywords = [\"bipolar\"]):\n",
    "    f = open(file_name, 'r')\n",
    "    patient_ids = {}\n",
    "    for line in f:\n",
    "        try:\n",
    "            segments = line.strip().split(\"\\t\")\n",
    "            condition = segments[0].lower()\n",
    "            description = segments[1].lower()\n",
    "            user_id = segments[2]\n",
    "            \n",
    "        except:\n",
    "            print(line)\n",
    "            return patient_ids\n",
    "        \n",
    "        if condition ==  'x' and any(keyword in description for keyword in keywords):\n",
    "            patient_ids[user_id] = description\n",
    "            \n",
    "            \n",
    "        \n",
    "    return patient_ids\n",
    "\n",
    "file_location = \"tagged_bpd_descriptions.tsv\"\n",
    "keywords = [\"doctor\",\"expert\", \"psychologist\", \"therapist\", \"coach\", \"advisor\",\"certified\",\"famous\",\"specialist\", \"clinics\",\"clinical\",\"research\"]\n",
    "BPD_experts = expertFilter_BPD(file_location,keywords)\n",
    "print(len(BPD_experts))\n",
    "for user_id, description in BPD_experts.items():\n",
    "    print(description + \"\\n\")"
   ]
  },
  {
   "cell_type": "code",
   "execution_count": null,
   "metadata": {
    "collapsed": true
   },
   "outputs": [],
   "source": []
  },
  {
   "cell_type": "code",
   "execution_count": 118,
   "metadata": {
    "collapsed": false
   },
   "outputs": [
    {
     "name": "stdout",
     "output_type": "stream",
     "text": [
      "67\n"
     ]
    }
   ],
   "source": [
    "def expertFilter_bipolar(file_names, keywords = [\"bipolar\"]):\n",
    "    patient_ids = {}\n",
    "    for file_name in file_names:\n",
    "        f = open(file_name, 'r')\n",
    "\n",
    "        for line in f:\n",
    "            try:\n",
    "                segments = line.strip().split(\"\\t\")\n",
    "                condition = segments[0].lower()\n",
    "                description = segments[1].lower()\n",
    "                user_id = segments[3]\n",
    "\n",
    "            except:\n",
    "                break\n",
    "\n",
    "            if condition ==  'x' and any(keyword in description for keyword in keywords):\n",
    "                patient_ids[user_id] = description\n",
    "\n",
    "            \n",
    "        \n",
    "    return patient_ids\n",
    "\n",
    "keywords = [\"doctor\",\"expert\", \"psychologist\", \"therapist\", \"coach\", \"advisor\",\"certified\",\"famous\",\"specialist\", \"clinics\",\"clinical\",\"research\"]\n",
    "\n",
    "mix = []\n",
    "file_locations = [\"bipolar_profile_700_1400.csv\", \"bipolar_profile.tsv\"]\n",
    "experts_bipolar = expertFilter_bipolar(file_locations, keywords)\n",
    "print(len(experts_bipolar))\n",
    "\n",
    "    \n",
    "w = open(\"bipolar_experts.tsv\", \"w\")\n",
    "for expert_id, description in experts_bipolar.items():\n",
    "    w.write(\"\\t{}\\t{}\\n\".format(description, expert_id))\n",
    "w.close()\n"
   ]
  },
  {
   "cell_type": "code",
   "execution_count": 124,
   "metadata": {
    "collapsed": true
   },
   "outputs": [],
   "source": [
    "f = open(\"tagged_bipolar_experts.tsv\")\n",
    "expert_ids = []\n",
    "for line in f:\n",
    "    condition, description, user_id = line.strip().split(\"\\t\")\n",
    "    expert_ids.append(user_id)\n"
   ]
  },
  {
   "cell_type": "code",
   "execution_count": 125,
   "metadata": {
    "collapsed": false
   },
   "outputs": [
    {
     "name": "stdout",
     "output_type": "stream",
     "text": [
      "Fall asleep\n",
      "Fall asleep\n",
      "Fall asleep\n",
      "Fall asleep\n",
      "Fall asleep\n",
      "Fall asleep"
     ]
    },
    {
     "name": "stderr",
     "output_type": "stream",
     "text": [
      "/home/gb/research/Mental_Disorder/1_data_collecting/idCrawler.py:35: UserWarning: 404 not found\n",
      "  warn(\"404 not found\")\n",
      "/home/gb/research/Mental_Disorder/1_data_collecting/idCrawler.py:32: UserWarning: Bad Authentication\n",
      "  warn(\"Bad Authentication\")\n"
     ]
    },
    {
     "name": "stdout",
     "output_type": "stream",
     "text": [
      "\n"
     ]
    }
   ],
   "source": [
    "bipolar_expert_tweets = []\n",
    "i = 0\n",
    "for expert_id in expert_ids[i:]:\n",
    "    bipolar_expert_tweets += getTweets(user_id=expert_id)"
   ]
  },
  {
   "cell_type": "code",
   "execution_count": 128,
   "metadata": {
    "collapsed": false
   },
   "outputs": [
    {
     "name": "stdout",
     "output_type": "stream",
     "text": [
      "59375 tweets inserted\n"
     ]
    }
   ],
   "source": [
    "len(bipolar_expert_tweets)\n",
    "#bipolar_expert_tweets_polarity = scan_tweets(bipolar_expert_tweets)\n",
    "\n",
    "writeUsers(bipolar_expert_tweets_polarity,\"idea\", \"bipolar_experts_polarity\")"
   ]
  },
  {
   "cell_type": "code",
   "execution_count": 54,
   "metadata": {
    "collapsed": false
   },
   "outputs": [
    {
     "name": "stdout",
     "output_type": "stream",
     "text": [
      "58439\n",
      "303818\n"
     ]
    }
   ],
   "source": [
    "BPD_clean = {}\n",
    "comorbidity_tweets = {}\n",
    "lost_ids = set()\n",
    "\n",
    "BPD_cursor = MongoClient(\"localhost\", 27017)['idea'][\"BPD_581_emotion\"].find()\n",
    "for tweet in BPD_cursor:\n",
    "    tweet_id = tweet[\"id\"]\n",
    "    user_id = str(tweet[\"user\"][\"id\"])\n",
    "    if user_id in BPD_ids:\n",
    "        condition = BPD_ids[user_id]\n",
    "        if condition == 'c':\n",
    "            comorbidity_tweets[tweet_id] = tweet\n",
    "        else:\n",
    "            BPD_clean[tweet_id] = tweet\n",
    "    else:\n",
    "        lost_ids.add(user_id)\n",
    "        \n",
    "\n",
    "\n",
    "    \n",
    "print(len(comorbidity_tweets))\n",
    "print(len(BPD_clean))"
   ]
  },
  {
   "cell_type": "code",
   "execution_count": 73,
   "metadata": {
    "collapsed": false
   },
   "outputs": [],
   "source": [
    "bipolar_clean = {}\n",
    "mix = {}\n",
    "existing_ids = set()\n",
    "bipolar_cursor = MongoClient(\"localhost\", 27017)['patients'][\"bipolar_clean\"].find()\n",
    "BPD_cursor = MongoClient(\"localhost\", 27017)['patients'][\"BPD_clean\"].find()\n",
    "mix_cursor = MongoClient(\"localhost\", 27017)['patients'][\"mix_clean\"].find()\n",
    "\n",
    "cursors = [bipolar_cursor, BPD_cursor, mix_cursor]\n",
    "for cursor in cursors:\n",
    "    for tweet in cursor:\n",
    "        tweet_id = tweet[\"id\"]\n",
    "        existing_ids.add(tweet_id)\n",
    "\n",
    "\n",
    "\n",
    "\n",
    "\n",
    "\n",
    "\n",
    "\n",
    "\n"
   ]
  },
  {
   "cell_type": "code",
   "execution_count": 74,
   "metadata": {
    "collapsed": false
   },
   "outputs": [
    {
     "data": {
      "text/plain": [
       "582947"
      ]
     },
     "execution_count": 74,
     "metadata": {},
     "output_type": "execute_result"
    }
   ],
   "source": [
    "len(existing_ids)"
   ]
  },
  {
   "cell_type": "code",
   "execution_count": 78,
   "metadata": {
    "collapsed": false
   },
   "outputs": [
    {
     "name": "stdout",
     "output_type": "stream",
     "text": [
      "Fall asleep\n",
      "Fall asleep\n",
      "Fall asleep"
     ]
    },
    {
     "name": "stderr",
     "output_type": "stream",
     "text": [
      "/home/gb/research/Mental_Disorder/1_data_collecting/idCrawler.py:32: UserWarning: Bad Authentication\n",
      "  warn(\"Bad Authentication\")\n",
      "/home/gb/research/Mental_Disorder/1_data_collecting/idCrawler.py:35: UserWarning: 404 not found\n",
      "  warn(\"404 not found\")\n"
     ]
    },
    {
     "name": "stdout",
     "output_type": "stream",
     "text": [
      "\n",
      "Fall asleep\n",
      "Fall asleep\n",
      "Fall asleep\n",
      "Fall asleep\n",
      "Fall asleep\n",
      "Fall asleep\n",
      "Fall asleep\n",
      "Fall asleep\n",
      "Fall asleep\n",
      "Fall asleep\n",
      "Fall asleep\n",
      "Fall asleep\n",
      "Fall asleep\n",
      "Fall asleep\n",
      "Fall asleep\n",
      "Fall asleep\n",
      "Fall asleep\n",
      "Fall asleep\n",
      "Fall asleep\n",
      "Fall asleep\n",
      "Fall asleep\n",
      "Fall asleep\n",
      "Fall asleep\n",
      "Fall asleep\n",
      "Fall asleep\n",
      "Fall asleep\n",
      "Fall asleep\n",
      "Fall asleep\n",
      "Fall asleep\n",
      "Fall asleep\n",
      "Fall asleep\n",
      "Fall asleep\n",
      "Fall asleep\n",
      "Fall asleep\n",
      "Fall asleep\n",
      "Fall asleep\n"
     ]
    },
    {
     "name": "stderr",
     "output_type": "stream",
     "text": [
      "/home/gb/research/Mental_Disorder/1_data_collecting/idCrawler.py:28: UserWarning: Fall asleep\n",
      "  warn(\"Fall asleep\")\n"
     ]
    }
   ],
   "source": [
    "bipolar_tweets = []\n",
    "mix_tweets = []\n",
    "for user_id, condition in bipolar_ids.items():\n",
    "    if condition == 'o':\n",
    "        bipolar_tweets += getTweets(user_id=user_id)\n",
    "    else:\n",
    "        mix_tweets += getTweets(user_id=user_id)"
   ]
  },
  {
   "cell_type": "code",
   "execution_count": 89,
   "metadata": {
    "collapsed": false
   },
   "outputs": [
    {
     "name": "stdout",
     "output_type": "stream",
     "text": [
      "10000 tweets  processed\n",
      "10000 tweets  processed\n",
      "10000 tweets  processed\n",
      "10000 tweets  processed\n",
      "10000 tweets  processed\n",
      "10000 tweets  processed\n",
      "10000 tweets  processed\n",
      "10000 tweets  processed\n",
      "10000 tweets  processed\n",
      "10000 tweets  processed\n",
      "10000 tweets  processed\n",
      "10000 tweets  processed\n",
      "10000 tweets  processed\n",
      "10000 tweets  processed\n",
      "10000 tweets  processed\n",
      "10000 tweets  processed\n",
      "10000 tweets  processed\n",
      "10000 tweets  processed\n",
      "10000 tweets  processed\n",
      "10000 tweets  processed\n",
      "10000 tweets  processed\n",
      "10000 tweets  processed\n",
      "10000 tweets  processed\n",
      "10000 tweets  processed\n",
      "10000 tweets  processed\n",
      "10000 tweets  processed\n",
      "10000 tweets  processed\n",
      "10000 tweets  processed\n",
      "10000 tweets  processed\n",
      "10000 tweets  processed\n",
      "10000 tweets  processed\n"
     ]
    }
   ],
   "source": [
    "polarity_bipolar_tweets = scan_tweets(bipolar_tweets)\n",
    "polarity_mix_tweets = scan_tweets(mix_tweets)"
   ]
  },
  {
   "cell_type": "code",
   "execution_count": 91,
   "metadata": {
    "collapsed": false
   },
   "outputs": [
    {
     "data": {
      "text/plain": [
       "14227"
      ]
     },
     "execution_count": 91,
     "metadata": {},
     "output_type": "execute_result"
    }
   ],
   "source": [
    "len(polarity_mix_tweets)"
   ]
  },
  {
   "cell_type": "code",
   "execution_count": 95,
   "metadata": {
    "collapsed": false
   },
   "outputs": [
    {
     "name": "stdout",
     "output_type": "stream",
     "text": [
      "309130 tweets inserted\n"
     ]
    }
   ],
   "source": [
    "writeUsers(polarity_bipolar_tweets,\"idea\",\"bipolar_polarity\")"
   ]
  },
  {
   "cell_type": "code",
   "execution_count": 56,
   "metadata": {
    "collapsed": false
   },
   "outputs": [
    {
     "name": "stdout",
     "output_type": "stream",
     "text": [
      "61\n"
     ]
    }
   ],
   "source": [
    "overlap_n = 0\n",
    "for user_id in bipolar_ids:\n",
    "    if any(user_id == x for x in BPD_ids):\n",
    "        overlap_n += 1\n",
    "print(overlap_n)"
   ]
  },
  {
   "cell_type": "code",
   "execution_count": 53,
   "metadata": {
    "collapsed": false
   },
   "outputs": [
    {
     "data": {
      "text/plain": [
       "0"
      ]
     },
     "execution_count": 53,
     "metadata": {},
     "output_type": "execute_result"
    }
   ],
   "source": [
    "len(lost_ids)"
   ]
  },
  {
   "cell_type": "code",
   "execution_count": 17,
   "metadata": {
    "collapsed": false
   },
   "outputs": [
    {
     "data": {
      "text/plain": [
       "496"
      ]
     },
     "execution_count": 17,
     "metadata": {},
     "output_type": "execute_result"
    }
   ],
   "source": [
    "len(BPD_patietn_ids)"
   ]
  },
  {
   "cell_type": "code",
   "execution_count": null,
   "metadata": {
    "collapsed": true
   },
   "outputs": [],
   "source": [
    "keywords = [\"bipolar\"]\n",
    "for profile in BPD_profiles:\n",
    "    description = BPD_profiles[\"description\"].lower()\n",
    "    if keywords in description:\n",
    "        BPD_profiles[\"condition\"] = [\"BPD\",\"bipolar\"]\n",
    "    else:\n",
    "        BPD_profiles[\"condition\"] = [\"BPD\"]"
   ]
  },
  {
   "cell_type": "code",
   "execution_count": null,
   "metadata": {
    "collapsed": true
   },
   "outputs": [],
   "source": [
    "bipolar_patietn_ids = set()\n",
    "bipolar_cursor = MongoClient(\"localhost\", 27017)['idea'][\"bipolar_emotion\"].find()\n",
    "for tweet in bipolar_cursor:\n",
    "    user_id = tweet[\"user\"][\"id\"]\n",
    "    bipolar_patietn_ids.add(user_id)\n",
    "bipolar_profiles = []\n",
    "for user_id in bipolar_patietn_ids:\n",
    "    bipolar_profiles += getUserProfile(user_id=user_id)\n",
    "\n",
    "    "
   ]
  },
  {
   "cell_type": "code",
   "execution_count": null,
   "metadata": {
    "collapsed": true
   },
   "outputs": [],
   "source": [
    "keywords = [\"borderline\",\"bpd\"]\n",
    "for profile in bipolar_profiles:\n",
    "    description =bipolarD_profiles[\"description\"].lower()\n",
    "    if keywords in description:\n",
    "        bipolar_profiles[\"condition\"] = [\"BPD\",\"bipolar\"]\n",
    "    else:\n",
    "        bipolar_profiles[\"condition\"] = [\"BPD\"]"
   ]
  },
  {
   "cell_type": "code",
   "execution_count": 79,
   "metadata": {
    "collapsed": false
   },
   "outputs": [
    {
     "data": {
      "text/plain": [
       "4"
      ]
     },
     "execution_count": 79,
     "metadata": {},
     "output_type": "execute_result"
    }
   ],
   "source": [
    "4"
   ]
  },
  {
   "cell_type": "code",
   "execution_count": null,
   "metadata": {
    "collapsed": true
   },
   "outputs": [],
   "source": []
  }
 ],
 "metadata": {
  "kernelspec": {
   "display_name": "Python 3",
   "language": "python",
   "name": "python3"
  },
  "language_info": {
   "codemirror_mode": {
    "name": "ipython",
    "version": 3
   },
   "file_extension": ".py",
   "mimetype": "text/x-python",
   "name": "python",
   "nbconvert_exporter": "python",
   "pygments_lexer": "ipython3",
   "version": "3.4.3"
  }
 },
 "nbformat": 4,
 "nbformat_minor": 0
}
