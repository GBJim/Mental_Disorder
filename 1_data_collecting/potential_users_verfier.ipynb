{
 "cells": [
  {
   "cell_type": "markdown",
   "metadata": {},
   "source": [
    "# This file filter out potential patients from community portals by keywords in user description"
   ]
  },
  {
   "cell_type": "code",
   "execution_count": 1,
   "metadata": {
    "collapsed": true
   },
   "outputs": [],
   "source": [
    "from pymongo import MongoClient\n",
    "from idCrawler import *\n",
    "\n",
    "\n",
    "def verify(text, matchers, de_matchers):\n",
    "\tfor de_mactcher in de_matchers:\n",
    "\t\t\tif de_mactcher in text:\n",
    "\t\t\t\treturn False\n",
    "\n",
    "\tfor matcher in matchers:\n",
    "\t\t\tif matcher in text:\n",
    "\t\t\t\treturn True\n",
    "\treturn False \n",
    "\n",
    "\n",
    "def insertTweets(tweets, collectionName):\n",
    "\tcollection = MongoClient(\"localhost\", 27017)[\"idea\"][collectionName]\n",
    "\tcollection.insert(tweets)\n",
    "\tprint(\"{} tweets inserted\".format(len(tweets)))\n",
    "\n",
    "\n",
    "\n",
    "def targetDetection(collectionName, matchers, de_mactchers):\n",
    "\tpositive_profiles = []\n",
    "\tcollection = MongoClient('localhost', 27017)['idea'][collectionName]\n",
    "\tfor profile in collection.find():\n",
    "\t\tdescription = profile['description'].lower()\n",
    "\t\tif verify(description, matchers, de_mactchers):\n",
    "\t\t\tpositive_profiles.append(profile)\n",
    "\n",
    "\treturn positive_profiles\n",
    "\n",
    "def writeProfiles(profiles, file_name):\n",
    "\tw = open(file_name, 'w')\n",
    "\tfor profile in profiles:\n",
    "\t\tuser_id = profile['id']\n",
    "\t\tuser_name = profile['screen_name'].replace(\"\\n\",\" \").replace(\"\\t\",\" \")\n",
    "\t\tdescription = profile['description'].replace(\"\\n\",\" \").replace(\"\\t\",\" \").replace(\"\\r\",\" \")\n",
    "\t\tw.write(\"\\t{}\\t{}\\t{}\\n\".format(description,user_name,user_id))\n",
    "\tw.close()\n",
    "\n",
    "\n",
    "\n",
    "\n"
   ]
  },
  {
   "cell_type": "code",
   "execution_count": null,
   "metadata": {
    "collapsed": true
   },
   "outputs": [],
   "source": [
    "'''\n",
    "groups = ['Sectioned_','AmandaGreenUK','bondobbs','OfficialBPDChat','HealingFromBPD', 'bpdguy','bpdsurvive','JurmaineHealth','BPD_BC','SympoPsychiatry','hope4healing','borderlinepd101']\n",
    "bipolar_groups = ['BipolarDisorder', 'BipolarRecovery', 'BipolarUK', 'PsychCentral', 'DBSAlliance', 'NLOBipolar', 'BipolarUs','Skytherapist', 'chatobstewart', 'natasha_tracy', 'erin_michalak', 'CREST_BD', 'namiohio', 'ResearchAtCRI','Bipolar_Blogs',' _BipolarManiac', 'YoungMindsUK']\n",
    "print(\"Followers collections\")\n",
    "followers = []\n",
    "for screen_name in bipolar_groups:\n",
    "\tfollowers += getFollowers(screen_name)\n",
    "followers = list(set(followers))\n",
    "\n",
    "print(\"Followers profiles collections\")\n",
    "user_profiles = []\n",
    "lost_ids = []\n",
    "for i, user_id in enumerate(followers[len(user_profiles):]):\n",
    "\tuser_profile = getUserProfile(user_id)\n",
    "\tif user_profile != []:\n",
    "\t\tuser_profiles.append(user_profile)\n",
    "\n",
    "\n",
    "print(\"Collection finsihed\")\n",
    "insertTweets(user_profiles, 'suspecious_profiles')\n",
    "\n",
    "#matchers = ['borderline','bpd','disorder','ptsd','depression','mdd','depressive']\n",
    "matchers = ['bipolar']\n",
    "\n",
    "\n",
    "\n",
    "collection = MongoClient(\"localhost\", 27017)[\"idea\"]['suspecious_profiles']\n",
    "cursor = collection.find()\n",
    "positive_users = []\t\t\n",
    "for user_profile in cursor\n",
    "\tdescription = user_profile['description'].lower()\n",
    "\tif verify(description, matchers, []):\n",
    "\t\tpositive_users.append(user_profile)\n",
    "\n",
    "print(\"Positive users: {}\".format(len(positive_users)))\n",
    "positive_profiles\n",
    "\n",
    "'''\n",
    "matchers = ['bipolar']\n",
    "dematchers = ['medical',\"doctor\",\"coach\",\"therapist\"]\n",
    "profiles = targetDetection('suspecious_profiles', matchers, dematchers)"
   ]
  }
 ],
 "metadata": {
  "kernelspec": {
   "display_name": "Python 3",
   "language": "python",
   "name": "python3"
  },
  "language_info": {
   "codemirror_mode": {
    "name": "ipython",
    "version": 3
   },
   "file_extension": ".py",
   "mimetype": "text/x-python",
   "name": "python",
   "nbconvert_exporter": "python",
   "pygments_lexer": "ipython3",
   "version": "3.4.3"
  }
 },
 "nbformat": 4,
 "nbformat_minor": 0
}
