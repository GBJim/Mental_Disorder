{
 "cells": [
  {
   "cell_type": "code",
   "execution_count": 38,
   "metadata": {
    "collapsed": false
   },
   "outputs": [],
   "source": [
    "import pymongo\n",
    "from pymongo import MongoClient\n",
    "import operator\n",
    "import json\n",
    "import numpy as np\n",
    "import bisect\n",
    "import random\n",
    "from time import sleep\n",
    "from idCrawler import getTweets\n",
    "from urllib.request import urlopen\n",
    "\n",
    "\n",
    "\n",
    "def writeUsers(tweets, collectionName):\n",
    "    collection = MongoClient(\"localhost\", 27017)[\"idea\"][collectionName]\n",
    "    collection.insert(tweets)\n",
    "    print(\"{} tweets inserted\".format(len(tweets)))\n",
    "\n",
    "    \n",
    "    \n",
    "\n",
    "def patientsReader(file_name):\n",
    "    f = open(file_name, 'r')\n",
    "    patient_ids = {}\n",
    "    for line in f:\n",
    "        try:\n",
    "            segments = line.strip().split(\"\\t\")\n",
    "            condition = segments[0]\n",
    "            description = segments[1]\n",
    "            screen_name = segments[2]\n",
    "            user_id = segments[3]\n",
    "            \n",
    "        except:\n",
    "            print(line)\n",
    "            return patient_ids\n",
    "        if condition == 'o' or condition == 'O' or condition == 'p':\n",
    "            patient_ids[user_id] = 'o'\n",
    "        elif condition == 'c':\n",
    "            patient_ids[user_id] = 'c'\n",
    "        \n",
    "    return patients_ids\n",
    "    \n",
    "def sentiment_analyize(tweets):\n",
    "    payload = {\"data\": [],\"language\": \"en\"}\n",
    "    \n",
    "    for tweet in tweets:\n",
    "        payload[\"data\"].append({\"text\": tweet[\"text\"],\"id\": tweet[\"id\"]})\n",
    "    \n",
    "    payload = json.dumps(payload).encode('utf-8')\n",
    "    response = urlopen('http://www.sentiment140.com/api/bulkClassifyJson?appid=ccha97u@gmail.com', payload) # request to server\n",
    "    results = response.read().decode('\"ISO-8859-1\"') # get the response\n",
    "    results = json.loads(results)['data']\n",
    "    for i,result in enumerate(results):\n",
    "       \n",
    "        if result['polarity'] == 0:\n",
    "            tweets[i][\"polarity\"] = \"negative\"\n",
    "        elif result['polarity'] == 2:\n",
    "            tweets[i][\"polarity\"] = \"neutral\"\n",
    "        elif result['polarity'] == 4:\n",
    "            tweets[i][\"polarity\"] = \"positive\"\n",
    "        else:\n",
    "             tweets[i][\"polarity\"] = \"unknown\"\n",
    "    return tweets\n",
    "\n",
    "\n",
    "def scan_tweets(tweets, bulk_size=10000):\n",
    "\n",
    "    buffer = []\n",
    "    sentiment_tweets = []\n",
    "    for tweet in tweets:\n",
    "        buffer.append(tweet)\n",
    "        if len(buffer) >= bulk_size:\n",
    "            print(\"10000 tweets  processed\")\n",
    "            sentiment_tweets += sentiment_analyize(buffer)\n",
    "            buffer = []\n",
    "    \n",
    "    \n",
    "    sentiment_tweets += sentiment_analyize(buffer)\n",
    "    \n",
    "    return sentiment_tweets\n",
    "\n",
    "\n",
    "#BPD_users = json.load(\"BDP_candidates.json\")\n",
    "\n",
    "\n",
    "\n",
    "\n"
   ]
  },
  {
   "cell_type": "code",
   "execution_count": 41,
   "metadata": {
    "collapsed": false
   },
   "outputs": [
    {
     "name": "stdout",
     "output_type": "stream",
     "text": [
      "\tbipolar disorder sufferer and all round bad person, take no heed in what I tweet!\tmanc_swag\t3097925127\n",
      "\n"
     ]
    }
   ],
   "source": [
    "patient_ids = patientsReader(\"bipolar_profile.tsv\")"
   ]
  },
  {
   "cell_type": "code",
   "execution_count": 43,
   "metadata": {
    "collapsed": false,
    "scrolled": true
   },
   "outputs": [
    {
     "data": {
      "text/plain": [
       "451"
      ]
     },
     "execution_count": 43,
     "metadata": {},
     "output_type": "execute_result"
    }
   ],
   "source": [
    "len(patient_ids)"
   ]
  },
  {
   "cell_type": "code",
   "execution_count": 63,
   "metadata": {
    "collapsed": false,
    "scrolled": true
   },
   "outputs": [
    {
     "name": "stderr",
     "output_type": "stream",
     "text": [
      "/home/gb/research/Mental_Disorder/1_data_collecting/idCrawler.py:32: UserWarning: Bad Authentication\n",
      "  warn(\"Bad Authentication\")\n",
      "/home/gb/research/Mental_Disorder/1_data_collecting/idCrawler.py:35: UserWarning: 404 not found\n",
      "  warn(\"404 not found\")\n"
     ]
    },
    {
     "name": "stdout",
     "output_type": "stream",
     "text": [
      "Fall asleep\n",
      "Fall asleep\n",
      "Fall asleep\n",
      "Fall asleep\n",
      "Fall asleep\n",
      "Fall asleep\n",
      "Fall asleep\n",
      "Fall asleep\n",
      "Fall asleep\n",
      "Fall asleep\n",
      "Fall asleep\n",
      "Fall asleep\n",
      "Fall asleep\n",
      "Fall asleep\n",
      "Fall asleep\n",
      "Fall asleep\n",
      "Fall asleep\n",
      "Fall asleep\n",
      "Fall asleep\n",
      "Fall asleep\n",
      "Fall asleep\n",
      "Fall asleep\n",
      "Fall asleep\n",
      "Fall asleep\n",
      "Fall asleep\n",
      "Fall asleep\n",
      "Fall asleep\n",
      "Fall asleep\n",
      "Fall asleep\n",
      "Fall asleep\n",
      "Fall asleep\n",
      "Fall asleep\n",
      "Fall asleep\n",
      "Fall asleep\n",
      "Fall asleep\n",
      "Fall asleep\n",
      "Fall asleep\n",
      "Fall asleep\n",
      "Fall asleep\n",
      "Fall asleep\n",
      "Fall asleep\n",
      "Fall asleep\n",
      "Fall asleep\n",
      "Fall asleep\n",
      "Fall asleep\n",
      "Fall asleep\n",
      "Fall asleep\n",
      "Fall asleep\n"
     ]
    }
   ],
   "source": [
    "bipoar_tweets = []\n",
    "for user_id in patient_ids:\n",
    "    if user_id not in unique_bipolar_tweets:\n",
    "        bipoar_tweets += getTweets(user_id=user_id)\n",
    "    \n",
    "    "
   ]
  },
  {
   "cell_type": "code",
   "execution_count": 55,
   "metadata": {
    "collapsed": false
   },
   "outputs": [
    {
     "data": {
      "text/plain": [
       "563386281473114112"
      ]
     },
     "execution_count": 55,
     "metadata": {},
     "output_type": "execute_result"
    }
   ],
   "source": [
    "user_id"
   ]
  },
  {
   "cell_type": "code",
   "execution_count": 59,
   "metadata": {
    "collapsed": false
   },
   "outputs": [
    {
     "ename": "AttributeError",
     "evalue": "'list' object has no attribute 'find'",
     "output_type": "error",
     "traceback": [
      "\u001b[1;31m---------------------------------------------------------------------------\u001b[0m",
      "\u001b[1;31mAttributeError\u001b[0m                            Traceback (most recent call last)",
      "\u001b[1;32m<ipython-input-59-66b6c0b5cba4>\u001b[0m in \u001b[0;36m<module>\u001b[1;34m()\u001b[0m\n\u001b[1;32m----> 1\u001b[1;33m \u001b[0mlist\u001b[0m\u001b[1;33m(\u001b[0m\u001b[0mpatient_ids\u001b[0m\u001b[1;33m.\u001b[0m\u001b[0mkeys\u001b[0m\u001b[1;33m(\u001b[0m\u001b[1;33m)\u001b[0m\u001b[1;33m)\u001b[0m\u001b[1;33m.\u001b[0m\u001b[0mfind\u001b[0m\u001b[1;33m(\u001b[0m\u001b[0muser_id\u001b[0m\u001b[1;33m)\u001b[0m\u001b[1;33m\u001b[0m\u001b[0m\n\u001b[0m",
      "\u001b[1;31mAttributeError\u001b[0m: 'list' object has no attribute 'find'"
     ]
    }
   ],
   "source": [
    "a = list(patient_ids.keys())\n",
    "for i,a_id in enumerate(a):\n",
    "    if a_id == us"
   ]
  },
  {
   "cell_type": "code",
   "execution_count": 64,
   "metadata": {
    "collapsed": false
   },
   "outputs": [
    {
     "data": {
      "text/plain": [
       "331497"
      ]
     },
     "execution_count": 64,
     "metadata": {},
     "output_type": "execute_result"
    }
   ],
   "source": [
    "len(bipoar_tweets)"
   ]
  },
  {
   "cell_type": "code",
   "execution_count": 65,
   "metadata": {
    "collapsed": false
   },
   "outputs": [],
   "source": [
    "collection = MongoClient(\"localhost\", 27017)[\"idea\"][\"bipolar_polarity\"]\n",
    "cursor =collection.find()\n",
    "existing_ids= set()\n",
    "for tweet in cursor:\n",
    "    user_id = tweet[\"id\"]\n",
    "    existing_ids.add(user_id)"
   ]
  },
  {
   "cell_type": "code",
   "execution_count": 66,
   "metadata": {
    "collapsed": false
   },
   "outputs": [
    {
     "data": {
      "text/plain": [
       "235160"
      ]
     },
     "execution_count": 66,
     "metadata": {},
     "output_type": "execute_result"
    }
   ],
   "source": [
    "len(existing_ids)"
   ]
  },
  {
   "cell_type": "code",
   "execution_count": 67,
   "metadata": {
    "collapsed": false
   },
   "outputs": [
    {
     "name": "stdout",
     "output_type": "stream",
     "text": [
      "10000 tweets  processed\n",
      "10000 tweets  processed\n",
      "10000 tweets  processed\n",
      "10000 tweets  processed\n",
      "10000 tweets  processed\n",
      "10000 tweets  processed\n",
      "10000 tweets  processed\n",
      "10000 tweets  processed\n",
      "10000 tweets  processed\n"
     ]
    }
   ],
   "source": [
    "unique_bipolar_tweets = []\n",
    "for tweet in bipoar_tweets:\n",
    "    user_id = tweet[\"id\"]\n",
    "    if user_id not in existing_ids:\n",
    "        unique_bipolar_tweets.append(tweet)\n",
    "unique_bipolar_tweets = scan_tweets(unique_bipolar_tweets)"
   ]
  },
  {
   "cell_type": "code",
   "execution_count": 11,
   "metadata": {
    "collapsed": false
   },
   "outputs": [
    {
     "name": "stdout",
     "output_type": "stream",
     "text": [
      "10000 tweets processed\n",
      "10000 tweets processed\n",
      "10000 tweets processed\n",
      "10000 tweets processed\n",
      "10000 tweets processed\n",
      "10000 tweets processed\n",
      "10000 tweets processed\n",
      "10000 tweets processed\n",
      "10000 tweets processed\n",
      "10000 tweets processed\n",
      "10000 tweets processed\n"
     ]
    }
   ],
   "source": [
    "bipoalar_tweets = scan_tweets(bipoar_tweets)"
   ]
  },
  {
   "cell_type": "code",
   "execution_count": 12,
   "metadata": {
    "collapsed": false
   },
   "outputs": [
    {
     "data": {
      "text/plain": [
       "110071"
      ]
     },
     "execution_count": 12,
     "metadata": {},
     "output_type": "execute_result"
    }
   ],
   "source": [
    "len(bipoalar_tweets)"
   ]
  },
  {
   "cell_type": "code",
   "execution_count": 14,
   "metadata": {
    "collapsed": false
   },
   "outputs": [
    {
     "name": "stdout",
     "output_type": "stream",
     "text": [
      "110071 tweets inserted\n"
     ]
    }
   ],
   "source": [
    "writeUsers(bipoalar_tweets, collectionName=\"bipolar_polarity\")"
   ]
  },
  {
   "cell_type": "code",
   "execution_count": 68,
   "metadata": {
    "collapsed": false
   },
   "outputs": [
    {
     "name": "stdout",
     "output_type": "stream",
     "text": [
      "96464 tweets inserted\n"
     ]
    }
   ],
   "source": [
    "writeUsers(unique_bipolar_tweets, collectionName=\"bipolar_polarity\")"
   ]
  },
  {
   "cell_type": "code",
   "execution_count": 27,
   "metadata": {
    "collapsed": false
   },
   "outputs": [
    {
     "data": {
      "text/plain": [
       "20762"
      ]
     },
     "execution_count": 27,
     "metadata": {},
     "output_type": "execute_result"
    }
   ],
   "source": [
    "len(tagged_tweets)"
   ]
  },
  {
   "cell_type": "code",
   "execution_count": 14,
   "metadata": {
    "collapsed": false
   },
   "outputs": [
    {
     "name": "stdout",
     "output_type": "stream",
     "text": [
      "trial 1\n",
      "trial 2\n",
      "trial 3\n",
      "trial 4\n",
      "trial 5\n",
      "trial 6\n",
      "trial 7\n",
      "trial 8\n",
      "trial 9\n",
      "trial 10\n"
     ]
    }
   ],
   "source": [
    "i =0\n",
    "lists = ['Sectioned_','AmandaGreenUK','bondobbs','OfficialBPDChat','HealingFromBPD', 'bpdguy','JurmaineHealth','BPD_BC','SympoPsychiatry','hope4healing']\n",
    "tweets = []\n",
    "for screen_name in lists[i:]:\n",
    "\ti += 1\n",
    "\ttweets += getTweets(screen_name=screen_name)\n",
    "\tprint(\"trial {}\".format(i))#writeUsers(tweets, 'therapists')\n"
   ]
  },
  {
   "cell_type": "code",
   "execution_count": null,
   "metadata": {
    "collapsed": true
   },
   "outputs": [],
   "source": []
  },
  {
   "cell_type": "code",
   "execution_count": 2,
   "metadata": {
    "collapsed": false
   },
   "outputs": [],
   "source": [
    "therapists = patientsReader(file_name=\"tagged_therapists_descriptions.tsv\")"
   ]
  },
  {
   "cell_type": "code",
   "execution_count": 17,
   "metadata": {
    "collapsed": false
   },
   "outputs": [
    {
     "data": {
      "text/plain": [
       "20798"
      ]
     },
     "execution_count": 17,
     "metadata": {},
     "output_type": "execute_result"
    }
   ],
   "source": [
    "len(tagged_tweets)"
   ]
  },
  {
   "cell_type": "code",
   "execution_count": 15,
   "metadata": {
    "collapsed": false
   },
   "outputs": [
    {
     "name": "stdout",
     "output_type": "stream",
     "text": [
      "10000 tweets processed\n",
      "10000 tweets processed\n"
     ]
    }
   ],
   "source": [
    "tagged_tweets = scan_tweets(tweets)"
   ]
  },
  {
   "cell_type": "code",
   "execution_count": 19,
   "metadata": {
    "collapsed": true
   },
   "outputs": [],
   "source": [
    "current =124"
   ]
  },
  {
   "cell_type": "code",
   "execution_count": 17,
   "metadata": {
    "collapsed": true
   },
   "outputs": [],
   "source": [
    "BPD_users = patientsReader()"
   ]
  },
  {
   "cell_type": "code",
   "execution_count": 18,
   "metadata": {
    "collapsed": false
   },
   "outputs": [
    {
     "data": {
      "text/plain": [
       "252"
      ]
     },
     "execution_count": 18,
     "metadata": {},
     "output_type": "execute_result"
    }
   ],
   "source": [
    "len(BPD_users)"
   ]
  },
  {
   "cell_type": "code",
   "execution_count": 21,
   "metadata": {
    "collapsed": false
   },
   "outputs": [
    {
     "data": {
      "text/plain": [
       "160223"
      ]
     },
     "execution_count": 21,
     "metadata": {},
     "output_type": "execute_result"
    }
   ],
   "source": [
    "len(tweets)"
   ]
  },
  {
   "cell_type": "code",
   "execution_count": 28,
   "metadata": {
    "collapsed": false
   },
   "outputs": [
    {
     "name": "stdout",
     "output_type": "stream",
     "text": [
      "199820 tweets inserted\n"
     ]
    }
   ],
   "source": [
    "writeUsers(tweets, 'BPD_581')"
   ]
  },
  {
   "cell_type": "code",
   "execution_count": 19,
   "metadata": {
    "collapsed": false
   },
   "outputs": [
    {
     "data": {
      "text/plain": [
       "192694"
      ]
     },
     "execution_count": 19,
     "metadata": {},
     "output_type": "execute_result"
    }
   ],
   "source": [
    "len(tweets)"
   ]
  },
  {
   "cell_type": "code",
   "execution_count": 9,
   "metadata": {
    "collapsed": false
   },
   "outputs": [
    {
     "data": {
      "text/plain": [
       "6"
      ]
     },
     "execution_count": 9,
     "metadata": {},
     "output_type": "execute_result"
    }
   ],
   "source": [
    "3+3"
   ]
  },
  {
   "cell_type": "code",
   "execution_count": 11,
   "metadata": {
    "collapsed": true
   },
   "outputs": [],
   "source": [
    "uniqueUser = set()\n",
    "for tweet in tweets:\n",
    "    user_id = tweet['user']['id']\n",
    "    uniqueUser.add(user_id)\n"
   ]
  },
  {
   "cell_type": "code",
   "execution_count": 22,
   "metadata": {
    "collapsed": false
   },
   "outputs": [
    {
     "data": {
      "text/plain": [
       "270"
      ]
     },
     "execution_count": 22,
     "metadata": {},
     "output_type": "execute_result"
    }
   ],
   "source": [
    "len(uniqueUser)"
   ]
  },
  {
   "cell_type": "code",
   "execution_count": 13,
   "metadata": {
    "collapsed": false
   },
   "outputs": [
    {
     "data": {
      "text/plain": [
       "522"
      ]
     },
     "execution_count": 13,
     "metadata": {},
     "output_type": "execute_result"
    }
   ],
   "source": [
    "270  + 252"
   ]
  },
  {
   "cell_type": "code",
   "execution_count": 6,
   "metadata": {
    "collapsed": false
   },
   "outputs": [
    {
     "data": {
      "text/plain": [
       "105040"
      ]
     },
     "execution_count": 6,
     "metadata": {},
     "output_type": "execute_result"
    }
   ],
   "source": [
    "collection = MongoClient('localhost', 27017)['idea']['BPD_581_emotion']\n",
    "y = collection.count()\n",
    "y"
   ]
  },
  {
   "cell_type": "code",
   "execution_count": 43,
   "metadata": {
    "collapsed": false
   },
   "outputs": [
    {
     "data": {
      "text/plain": [
       "0.1864864864864865"
      ]
     },
     "execution_count": 43,
     "metadata": {},
     "output_type": "execute_result"
    }
   ],
   "source": [
    "y / x"
   ]
  },
  {
   "cell_type": "code",
   "execution_count": 32,
   "metadata": {
    "collapsed": false
   },
   "outputs": [
    {
     "data": {
      "text/plain": [
       "74.73610053313024"
      ]
     },
     "execution_count": 32,
     "metadata": {},
     "output_type": "execute_result"
    }
   ],
   "source": [
    "y/5252"
   ]
  },
  {
   "cell_type": "code",
   "execution_count": null,
   "metadata": {
    "collapsed": true
   },
   "outputs": [],
   "source": [
    "6868 - 5353"
   ]
  }
 ],
 "metadata": {
  "kernelspec": {
   "display_name": "Python 3",
   "language": "python",
   "name": "python3"
  },
  "language_info": {
   "codemirror_mode": {
    "name": "ipython",
    "version": 3
   },
   "file_extension": ".py",
   "mimetype": "text/x-python",
   "name": "python",
   "nbconvert_exporter": "python",
   "pygments_lexer": "ipython3",
   "version": "3.4.3"
  }
 },
 "nbformat": 4,
 "nbformat_minor": 0
}
