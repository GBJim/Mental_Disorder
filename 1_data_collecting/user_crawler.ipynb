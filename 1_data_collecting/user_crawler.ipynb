{
 "cells": [
  {
   "cell_type": "markdown",
   "metadata": {},
   "source": [
    "# This file download target users by REST API and label each tweet vai Sentiment140 API"
   ]
  },
  {
   "cell_type": "code",
   "execution_count": 4,
   "metadata": {
    "collapsed": false
   },
   "outputs": [],
   "source": [
    "import pymongo\n",
    "from pymongo import MongoClient\n",
    "import operator\n",
    "import json\n",
    "import numpy as np\n",
    "import bisect\n",
    "import random\n",
    "from time import sleep\n",
    "from idCrawler import getTweets\n",
    "from urllib.request import urlopen\n",
    "\n",
    "\n",
    "\n",
    "def writeUsers(tweets, collectionName):\n",
    "    collection = MongoClient(\"localhost\", 27017)[\"idea\"][collectionName]\n",
    "    collection.insert(tweets)\n",
    "    print(\"{} tweets inserted\".format(len(tweets)))\n",
    "\n",
    "    \n",
    "    \n",
    "\n",
    "def patientsReader(file_name):\n",
    "    f = open(file_name, 'r')\n",
    "    patient_ids = {}\n",
    "    for line in f:\n",
    "        try:\n",
    "            segments = line.strip().split(\"\\t\")\n",
    "            condition = segments[0]\n",
    "            description = segments[1]\n",
    "            screen_name = segments[2]\n",
    "            user_id = segments[3]\n",
    "            \n",
    "        except:\n",
    "            print(line)\n",
    "            return patient_ids\n",
    "        if condition == 'o' or condition == 'O' or condition == 'p':\n",
    "            patient_ids[user_id] = 'o'\n",
    "        elif condition == 'c':\n",
    "            patient_ids[user_id] = 'c'\n",
    "        \n",
    "    return patient_ids\n",
    "    \n",
    "def sentiment_analyize(tweets):\n",
    "    payload = {\"data\": [],\"language\": \"en\"}\n",
    "    \n",
    "    for tweet in tweets:\n",
    "        payload[\"data\"].append({\"text\": tweet[\"text\"],\"id\": tweet[\"id\"]})\n",
    "    \n",
    "    payload = json.dumps(payload).encode('utf-8')\n",
    "    response = urlopen('http://www.sentiment140.com/api/bulkClassifyJson?appid=ccha97u@gmail.com', payload) # request to server\n",
    "    results = response.read().decode('\"ISO-8859-1\"') # get the response\n",
    "    results = json.loads(results)['data']\n",
    "    for i,result in enumerate(results):\n",
    "       \n",
    "        if result['polarity'] == 0:\n",
    "            tweets[i][\"polarity\"] = \"negative\"\n",
    "        elif result['polarity'] == 2:\n",
    "            tweets[i][\"polarity\"] = \"neutral\"\n",
    "        elif result['polarity'] == 4:\n",
    "            tweets[i][\"polarity\"] = \"positive\"\n",
    "        else:\n",
    "             tweets[i][\"polarity\"] = \"unknown\"\n",
    "    return tweets\n",
    "\n",
    "\n",
    "def scan_tweets(tweets, bulk_size=10000):\n",
    "\n",
    "    buffer = []\n",
    "    sentiment_tweets = []\n",
    "    for tweet in tweets:\n",
    "        buffer.append(tweet)\n",
    "        if len(buffer) >= bulk_size:\n",
    "            print(\"10000 tweets  processed\")\n",
    "            sentiment_tweets += sentiment_analyize(buffer)\n",
    "            buffer = []\n",
    "    \n",
    "    \n",
    "    sentiment_tweets += sentiment_analyize(buffer)\n",
    "    \n",
    "    return sentiment_tweets\n",
    "\n",
    "\n",
    "#BPD_users = json.load(\"BDP_candidates.json\")\n",
    "\n",
    "\n",
    "\n",
    "\n"
   ]
  },
  {
   "cell_type": "code",
   "execution_count": 5,
   "metadata": {
    "collapsed": false
   },
   "outputs": [],
   "source": [
    "patient_ids = patientsReader(\"bipolar_profile_700_1400.csv\")"
   ]
  },
  {
   "cell_type": "code",
   "execution_count": 63,
   "metadata": {
    "collapsed": false,
    "scrolled": true
   },
   "outputs": [
    {
     "name": "stderr",
     "output_type": "stream",
     "text": [
      "/home/gb/research/Mental_Disorder/1_data_collecting/idCrawler.py:32: UserWarning: Bad Authentication\n",
      "  warn(\"Bad Authentication\")\n",
      "/home/gb/research/Mental_Disorder/1_data_collecting/idCrawler.py:35: UserWarning: 404 not found\n",
      "  warn(\"404 not found\")\n"
     ]
    },
    {
     "name": "stdout",
     "output_type": "stream",
     "text": [
      "Fall asleep\n",
      "Fall asleep\n",
      "Fall asleep\n",
      "Fall asleep\n",
      "Fall asleep\n",
      "Fall asleep\n",
      "Fall asleep\n",
      "Fall asleep\n",
      "Fall asleep\n",
      "Fall asleep\n",
      "Fall asleep\n",
      "Fall asleep\n",
      "Fall asleep\n",
      "Fall asleep\n",
      "Fall asleep\n",
      "Fall asleep\n",
      "Fall asleep\n",
      "Fall asleep\n",
      "Fall asleep\n",
      "Fall asleep\n",
      "Fall asleep\n",
      "Fall asleep\n",
      "Fall asleep\n",
      "Fall asleep\n",
      "Fall asleep\n",
      "Fall asleep\n",
      "Fall asleep\n",
      "Fall asleep\n",
      "Fall asleep\n",
      "Fall asleep\n",
      "Fall asleep\n",
      "Fall asleep\n",
      "Fall asleep\n",
      "Fall asleep\n",
      "Fall asleep\n",
      "Fall asleep\n",
      "Fall asleep\n",
      "Fall asleep\n",
      "Fall asleep\n",
      "Fall asleep\n",
      "Fall asleep\n",
      "Fall asleep\n",
      "Fall asleep\n",
      "Fall asleep\n",
      "Fall asleep\n",
      "Fall asleep\n",
      "Fall asleep\n",
      "Fall asleep\n"
     ]
    }
   ],
   "source": [
    "bipoar_tweets = []\n",
    "for user_id in patient_ids:\n",
    "    bipoar_tweets += getTweets(user_id=user_id)\n",
    "    \n",
    "    "
   ]
  },
  {
   "cell_type": "code",
   "execution_count": 11,
   "metadata": {
    "collapsed": false
   },
   "outputs": [
    {
     "name": "stdout",
     "output_type": "stream",
     "text": [
      "10000 tweets processed\n",
      "10000 tweets processed\n",
      "10000 tweets processed\n",
      "10000 tweets processed\n",
      "10000 tweets processed\n",
      "10000 tweets processed\n",
      "10000 tweets processed\n",
      "10000 tweets processed\n",
      "10000 tweets processed\n",
      "10000 tweets processed\n",
      "10000 tweets processed\n"
     ]
    }
   ],
   "source": [
    "bipoalar_tweets = scan_tweets(bipoar_tweets)"
   ]
  }
 ],
 "metadata": {
  "kernelspec": {
   "display_name": "Python 3",
   "language": "python",
   "name": "python3"
  },
  "language_info": {
   "codemirror_mode": {
    "name": "ipython",
    "version": 3
   },
   "file_extension": ".py",
   "mimetype": "text/x-python",
   "name": "python",
   "nbconvert_exporter": "python",
   "pygments_lexer": "ipython3",
   "version": "3.4.3"
  }
 },
 "nbformat": 4,
 "nbformat_minor": 0
}
