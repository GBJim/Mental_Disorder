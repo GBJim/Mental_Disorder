{
 "cells": [
  {
   "cell_type": "code",
   "execution_count": 33,
   "metadata": {
    "collapsed": true
   },
   "outputs": [],
   "source": [
    "from pymongo import MongoClient\n",
    "import numpy as np\n",
    "import pandas as pd\n",
    "import matplotlib.pyplot as plt\n",
    "import random\n",
    "import operator\n",
    "from Levenshtein import *\n",
    "import re\n",
    "from tabulate import tabulate\n",
    "import age_gender_predictor\n",
    "%matplotlib inline\n"
   ]
  },
  {
   "cell_type": "code",
   "execution_count": 19,
   "metadata": {
    "collapsed": true
   },
   "outputs": [],
   "source": [
    "# Data Fetching, transformation and filtering\n",
    "\n",
    "\n",
    "def getUsersTweets(dbName,collectionName):\n",
    "    cursor = MongoClient(\"localhost\", 27017)[dbName][collectionName].find()\n",
    "    usersTweets = {}\n",
    "    for tweet in cursor:\n",
    "        userID = tweet[\"user\"][\"id\"]\n",
    "        #Processing emotions from Carlos' API\n",
    "        emotion =  tweet[\"emotion\"][\"groups\"][0][\"name\"]\n",
    "        if len(tweet[\"emotion\"][\"groups\"]) > 1:\n",
    "            emotion_2 = tweet[\"emotion\"][\"groups\"][1][\"name\"]\n",
    "            \n",
    "        ambiguous = True if tweet['emotion']['ambiguous'] == 'yes' else False\n",
    "       \n",
    "        if len(tweet[\"emotion\"][\"groups\"]) > 1:\n",
    "            emotion_2 = tweet[\"emotion\"][\"groups\"][1][\"name\"]    \n",
    "        else:\n",
    "            emotion_2 = None\n",
    "        if tweet[\"polarity\"] == \"positive\":\n",
    "            polarity = 1\n",
    "        elif tweet[\"polarity\"] == \"negative\":\n",
    "            polarity = -1\n",
    "        else:\n",
    "            polarity = 0\n",
    "   \n",
    "            \n",
    "        date = tweet[\"created_at\"]\n",
    "        text = tweet['text']\n",
    "\n",
    "        if userID not in usersTweets:\n",
    "            usersTweets[userID] = {}\n",
    "        if date not in usersTweets[userID]:\n",
    "            usersTweets[userID][date] = {}\n",
    "            \n",
    "        usersTweets[userID][date]['text'] = text\n",
    "        usersTweets[userID][date]['polarity'] =  polarity\n",
    "        usersTweets[userID][date]['emotion'] =  emotion\n",
    "        usersTweets[userID][date]['emotion_2'] =  emotion_2\n",
    "        usersTweets[userID][date]['ambiguous'] =  ambiguous\n",
    "    return usersTweets\n",
    "\n",
    "\n",
    "\n",
    "def timeSeriesTransform(usersEmotions):\n",
    "    for userID in usersEmotions:\n",
    "        usersEmotions[userID] = pd.DataFrame.from_dict(usersEmotions[userID], orient='index').fillna(0)\n",
    "        usersEmotions[userID]['dt'] = np.zeros(usersEmotions[userID].shape[0],dtype=float)\n",
    "        usersEmotions[userID].loc[:-1,'dt'] = (usersEmotions[userID].index[1:].values - usersEmotions[userID].index[:-1].values).astype('timedelta64[s]') / np.timedelta64(60, 's')\n",
    "    return list(usersEmotions.values())\n",
    "\n",
    "\n",
    "def getHTTPRows(timeSeries):\n",
    "    count = 0\n",
    "    patterns = ['http://','https://']\n",
    "    conditions = timeSeries['text'].str.contains(patterns[0])\n",
    "    for pattern in patterns[1:]:\n",
    "        conditions = conditions | timeSeries['text'].str.contains(pattern)\n",
    "\n",
    "    return conditions.values\n",
    "\n",
    "def userFilter(group, spam_threshold=0.5,tweets_threshold=100):    #Spam and inactive user filter\n",
    "    new_group = []\n",
    "    for timeSeries in group:\n",
    "        http_rows = getHTTPRows(timeSeries)\n",
    "        average_http_count = np.sum(http_rows) / timeSeries.shape[0]\n",
    "        if (average_http_count < spam_threshold) and (timeSeries.shape[0] > tweets_threshold):\n",
    "            new_group.append(timeSeries)\n",
    "    return new_group\n",
    "\n",
    "\n"
   ]
  },
  {
   "cell_type": "code",
   "execution_count": 48,
   "metadata": {
    "collapsed": false
   },
   "outputs": [],
   "source": [
    "BPD_tweets =  getUsersTweets(\"patients\",\"BPD_clean\")\n",
    "regular_tweets =  getUsersTweets(\"idea\",\"regularUser_en_fixed_emotion\")\n",
    "bipolar_tweets = getUsersTweets(\"patients\",\"bipolar_clean\")\n",
    "mix_tweets = getUsersTweets(\"patients\",\"bb_mix\")\n",
    "\n",
    "\n",
    "\n",
    "#Transform raw tweets into timeSeries data.\n",
    "BPDtimeSeries = timeSeriesTransform(BPD_tweets) \n",
    "regular_timeSeries = timeSeriesTransform(regular_tweets)\n",
    "bipolar_timeSeries = timeSeriesTransform(bipolar_tweets)\n",
    "mix_timeSeries = timeSeriesTransform(mix_tweets)\n",
    "\n",
    "#Filter and clean the timeSeries data\n",
    "BPD_clean = userFilter(BPDtimeSeries)\n",
    "regular_clean = userFilter(regular_timeSeries)\n",
    "bipolar_clean = userFilter(bipolar_timeSeries)\n",
    "mix_clean = userFilter(mix_timeSeries)\n",
    "\n",
    "\n",
    "groups = [regular_clean,bipolar_clean, BPD_clean, mix_clean]\n",
    "colors=['g','b', 'y','r']\n",
    "group_names = [\"Randpm Samples\", \"Bipolar\", \"BPD\",\"Mix\"]\n"
   ]
  },
  {
   "cell_type": "code",
   "execution_count": 54,
   "metadata": {
    "collapsed": false
   },
   "outputs": [
    {
     "name": "stdout",
     "output_type": "stream",
     "text": [
      "Group             Users    Tweets    Average tweets\n",
      "--------------  -------  --------  ----------------\n",
      "Randpm Samples      548    796957           1454.3\n",
      "Bipolar             146    182669           1251.16\n",
      "BPD                 232    256110           1103.92\n",
      "Mix                  46     62509           1358.89\n"
     ]
    }
   ],
   "source": [
    "#Statistics facts of experimental data\n",
    "\n",
    "headers = [\"Group\",\"Users\", \"Tweets\", \"Average tweets\"]\n",
    "contents = []\n",
    "for i, group in enumerate(groups):\n",
    "    group_name = group_names[i]\n",
    "    tweets_num = sum([timeSeries.shape[0] for timeSeries in group])\n",
    "    users_num = len(group)\n",
    "    average_tweets_num = tweets_num / users_num\n",
    "    contents.append([group_name, users_num, tweets_num, average_tweets_num])\n",
    "    \n",
    "print(tabulate(contents, headers=headers))"
   ]
  },
  {
   "cell_type": "code",
   "execution_count": 53,
   "metadata": {
    "collapsed": false
   },
   "outputs": [
    {
     "name": "stdout",
     "output_type": "stream",
     "text": [
      "Group             Male users    Female users    Average age\n",
      "--------------  ------------  --------------  -------------\n",
      "Randpm Samples      0.427007        0.572993        25.3958\n",
      "Bipolar             0.19863         0.80137         34.6311\n",
      "BPD                 0.116379        0.883621        30.9009\n",
      "Mix                 0.130435        0.869565        33.4076\n"
     ]
    }
   ],
   "source": [
    "#Age and gender Distribution\n",
    "def getAge(timeSeries):\n",
    "    texts = \"\"\n",
    "    for text in timeSeries[\"text\"].values:\n",
    "        texts += text + \"\\n\"np.mean(users_gender)\n",
    "    return age_gender_predictor.get_age(texts)\n",
    "\n",
    "def getGender(timeSeries):\n",
    "    texts = \"\"\n",
    "    for text in timeSeries[\"text\"].values:\n",
    "        texts += text + \"\\n\"\n",
    "    return age_gender_predictor.get_gender(texts)\n",
    "\n",
    "\n",
    "\n",
    "\n",
    "\n",
    "headers = [\"Group\",\"Male users\", \"Female users\", \"Average age\"]\n",
    "contents = []\n",
    "for i, group in enumerate(groups):\n",
    "    group_name = group_names[i]\n",
    "    users_num = len(group)\n",
    "    users_gender = [getGender(timeSeries) for timeSeries in group]\n",
    "    users_age = [getAge(timeSeries) for timeSeries in group]\n",
    "    male_ratio = len([gender for gender in users_gender if gender < 0]) / users_num\n",
    "    female_ratio = 1 - male_ratio\n",
    "    average_age = sum(users_age) / users_num\n",
    "    contents.append([group_name, male_ratio, female_ratio, average_age])\n",
    "print(tabulate(contents, headers=headers))\n",
    "\n",
    "def renderAgeDistribution(groups, bins=100):\n",
    "    for g,group in enumerate(groups):\n",
    "        ages = np.zeros(len(group),dtype=float)\n",
    "        for i, timeSeries in enumerate(group):\n",
    "            timeSeries = cleanPost(timeSeries)\n",
    "            if method is None:\n",
    "                http_count = f(timeSeries)\n",
    "            else:\n",
    "\n",
    "                http_count = f(timeSeries,method)\n",
    "            average_count = np.sum(http_count) / timeSeries.shape[0]\n",
    "            tweets_length[i] = timeSeries.shape[0]\n",
    "            counts[i] =  average_count\n",
    "        counts = counts[np.isfinite(counts)]\n",
    "        counts = counts[(counts>lowerbound) & (counts<upperbound)]\n",
    "        counts = reject_outliers(counts)\n",
    "        plt.hist(counts,color=colors[g], bins = bins, edgecolor='none' )\n",
    "        plt.ylabel('people')\n",
    "        plt.xlabel('specific post / total post ')\n",
    "        plt.title(str(len(group)) + \" \" + legends[g] + \" people\")\n",
    "        plt.show()\n",
    "        print(\"Average size of total tweets: {} std:\".format(np.mean(tweets_length),np.std(tweets_length)))\n",
    "        print(\" Mean:{0:2f} STD:{1:2f}\".format(np.mean(counts),np.std(counts)))\n",
    "    "
   ]
  },
  {
   "cell_type": "code",
   "execution_count": null,
   "metadata": {
    "collapsed": true
   },
   "outputs": [],
   "source": []
  }
 ],
 "metadata": {
  "kernelspec": {
   "display_name": "Python 3",
   "language": "python",
   "name": "python3"
  },
  "language_info": {
   "codemirror_mode": {
    "name": "ipython",
    "version": 3
   },
   "file_extension": ".py",
   "mimetype": "text/x-python",
   "name": "python",
   "nbconvert_exporter": "python",
   "pygments_lexer": "ipython3",
   "version": "3.4.3"
  }
 },
 "nbformat": 4,
 "nbformat_minor": 0
}
