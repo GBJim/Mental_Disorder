{
 "cells": [
  {
   "cell_type": "code",
   "execution_count": 111,
   "metadata": {
    "collapsed": true
   },
   "outputs": [],
   "source": [
    "from pymongo import MongoClient\n",
    "import numpy as np\n",
    "import pandas as pd\n",
    "import matplotlib.pyplot as plt\n",
    "import random\n",
    "import re\n",
    "from tabulate import tabulate\n",
    "import age_gender_predictor\n",
    "from sklearn.feature_extraction.text import TfidfVectorizer\n",
    "from sklearn.cross_validation import StratifiedShuffleSplit\n",
    "from sklearn.metrics import precision_recall_curve\n",
    "from sklearn.metrics import average_precision_score\n",
    "\n",
    "import json\n",
    "%matplotlib inline\n",
    "from pylab import rcParams\n",
    "from random import randint\n",
    "from sklearn.ensemble import RandomForestClassifier\n",
    "from scipy.sparse import vstack\n",
    "rcParams['figure.figsize'] = 10, 7"
   ]
  },
  {
   "cell_type": "code",
   "execution_count": 137,
   "metadata": {
    "collapsed": true
   },
   "outputs": [],
   "source": [
    "# Data Fetching, transformation and filtering\n",
    "\n",
    "\n",
    "def getLangRatio(cursor):\n",
    "    lang_ratios = {}\n",
    "    for tweet in cursor:\n",
    "        lang = 1 if tweet[\"lang\"] == \"en\" else 0\n",
    "        user_id = tweet[\"user\"][\"id\"]\n",
    "        if user_id in lang_ratios:\n",
    "            lang_ratios[user_id].append(lang)\n",
    "        else:\n",
    "            lang_ratios[user_id] = [lang]\n",
    "    for user_id, ratio in lang_ratios.items():\n",
    "        lang_ratios[user_id] = np.sum(ratio) / len(ratio)\n",
    "    return lang_ratios\n",
    "                                   \n",
    "\n",
    "def getUsersTweets(dbName,collectionName, en_threshold=0.9):\n",
    "    cursor = MongoClient(\"localhost\", 27017)[dbName][collectionName].find()\n",
    "    lang_ratios = getLangRatio(cursor)\n",
    "\n",
    "    cursor = MongoClient(\"localhost\", 27017)[dbName][collectionName].find()\n",
    "    usersTweets = {}\n",
    "    for tweet in cursor:\n",
    "        userID = tweet[\"user\"][\"id\"]\n",
    "        if lang_ratios[userID] < en_threshold:\n",
    "            continue\n",
    "        #Processing emotions from Carlos' API\n",
    "        emotion =  tweet[\"emotion\"][\"groups\"][0][\"name\"]\n",
    "        if len(tweet[\"emotion\"][\"groups\"]) > 1:\n",
    "            emotion_2 = tweet[\"emotion\"][\"groups\"][1][\"name\"]\n",
    "            \n",
    "        ambiguous = True if tweet['emotion']['ambiguous'] == 'yes' else False\n",
    "       \n",
    "        if len(tweet[\"emotion\"][\"groups\"]) > 1:\n",
    "            emotion_2 = tweet[\"emotion\"][\"groups\"][1][\"name\"]    \n",
    "        else:\n",
    "            emotion_2 = None\n",
    "        if tweet[\"polarity\"] == \"positive\":\n",
    "            polarity = 1\n",
    "        elif tweet[\"polarity\"] == \"negative\":\n",
    "            polarity = -1\n",
    "        else:\n",
    "            polarity = 0\n",
    "   \n",
    "            \n",
    "        date = tweet[\"created_at\"]\n",
    "        text = tweet['text']\n",
    "\n",
    "        if userID not in usersTweets:\n",
    "            usersTweets[userID] = {}\n",
    "        if date not in usersTweets[userID]:\n",
    "            usersTweets[userID][date] = {}\n",
    "            \n",
    "        usersTweets[userID][date]['text'] = text\n",
    "        usersTweets[userID][date]['polarity'] =  polarity\n",
    "        usersTweets[userID][date]['emotion'] =  emotion\n",
    "        usersTweets[userID][date]['emotion_2'] =  emotion_2\n",
    "        usersTweets[userID][date]['ambiguous'] =  ambiguous\n",
    "    return usersTweets\n",
    "\n",
    "\n",
    "\n",
    "def timeSeriesTransform(usersEmotions):\n",
    "    for userID in usersEmotions:\n",
    "        usersEmotions[userID] = pd.DataFrame.from_dict(usersEmotions[userID], orient='index').fillna(0)\n",
    "        usersEmotions[userID]['dt'] = np.zeros(usersEmotions[userID].shape[0],dtype=float)\n",
    "        usersEmotions[userID].loc[:-1,'dt'] = (usersEmotions[userID].index[1:].values - usersEmotions[userID].index[:-1].values).astype('timedelta64[s]') / np.timedelta64(60, 's')\n",
    "    return list(usersEmotions.values())\n",
    "\n",
    "\n",
    "def getHTTPRows(timeSeries):\n",
    "    count = 0\n",
    "    patterns = ['http://','https://']\n",
    "    conditions = timeSeries['text'].str.contains(patterns[0])\n",
    "    for pattern in patterns[1:]:\n",
    "        conditions = conditions | timeSeries['text'].str.contains(pattern)\n",
    "\n",
    "    return conditions.values\n",
    "\n",
    "def userFilter(group, spam_threshold=0.5,tweets_threshold=100):    #Spam and inactive user filter\n",
    "    new_group = []\n",
    "    for timeSeries in group:\n",
    "        http_rows = getHTTPRows(timeSeries)\n",
    "        average_http_count = np.sum(http_rows) / timeSeries.shape[0]\n",
    "        if (average_http_count < spam_threshold) and (timeSeries.shape[0] > tweets_threshold):\n",
    "            new_group.append(timeSeries)\n",
    "    return new_group\n",
    "\n",
    "\n"
   ]
  },
  {
   "cell_type": "code",
   "execution_count": 190,
   "metadata": {
    "collapsed": false
   },
   "outputs": [],
   "source": [
    "class Group(object):\n",
    "    \n",
    "    \n",
    "    \n",
    "    def __init__(self, name, group=None, **kwargs):\n",
    "        self.name = name\n",
    "\n",
    "        dbName  = kwargs.get(\"dbName\", None)\n",
    "        collectionName  = kwargs.get(\"collectionName\", None)\n",
    "        \n",
    "        if dbName is None or collectionName is None:\n",
    "            self.group = group\n",
    "        else:\n",
    "\n",
    "            self.group = userFilter(timeSeriesTransform(getUsersTweets(dbName,collectionName)))\n",
    "        \n",
    "        \n",
    "        \n",
    "    def getTexts(self):\n",
    "        return [\"\\n\".join(timeSeries[\"text\"].values) for timeSeries in self.group]\n",
    "    def getName(self):\n",
    "        return self.name\n",
    "    def getSize(self):\n",
    "        return len(self.group)\n",
    "    def __repr__(self):\n",
    "        return repr(self.group)\n",
    "    def __add__(self, other):\n",
    "        return Group(self.name, self.group + other.group)\n",
    "    \n",
    "    \n",
    "    def __iadd__(self, other):\n",
    "        self.group += other.group\n",
    "        return self    \n",
    "    \n",
    "\n",
    "\n",
    "\n",
    "\n",
    "\n",
    "\n",
    "BPD_group_clean = Group(\"BPD\",dbName = \"patients\",collectionName=\"BPD_clean\")\n",
    "regular_group = Group(\"Random Samples\",dbName = \"idea\",collectionName=\"regularUser_en_fixed_emotion\")\n",
    "bipolar_group_clean = Group(\"Bipolar\",dbName =\"patients\", collectionName=\"bipolar_clean\")\n",
    "mix_group = Group(\"Mix\", dbName = \"patients\",collectionName=\"bb_mix\")\n",
    "\n",
    "\n",
    "BPD_all = BPD_group_clean + mix_group\n",
    "bipolar_all = bipolar_group_clean + mix_group\n"
   ]
  },
  {
   "cell_type": "code",
   "execution_count": 214,
   "metadata": {
    "collapsed": false
   },
   "outputs": [
    {
     "name": "stdout",
     "output_type": "stream",
     "text": [
      "493 Normal and 284 Bipolar in Training Data\n",
      "55 Normal and 32 Bipolar in Test Data\n",
      "\n",
      "493 Normal and 217 BPD in Training Data\n",
      "55 Normal and 24 BPD in Test Data\n",
      "\n"
     ]
    },
    {
     "data": {
      "image/png": "[encoded data removed]",
      "text/plain": [
       "<matplotlib.figure.Figure at 0x7fb4d7134fd0>"
      ]
     },
     "metadata": {},
     "output_type": "display_data"
    }
   ],
   "source": [
    "#Tf-iDF performance, really robust\n",
    "\n",
    "\n",
    "\n",
    "def XYGenerator(labeled_data):\n",
    "    X, Y = labeled_data[0]\n",
    "    \n",
    "\n",
    "    \n",
    "    for x, y in labeled_data[1:]:\n",
    "        try:\n",
    "            \n",
    "            X = np.concatenate((X, x))\n",
    "        except:\n",
    "            X = vstack([X, x])\n",
    "            \n",
    "        Y = np.concatenate((Y, y))\n",
    "    \n",
    "   \n",
    "    \n",
    "    \n",
    "    return X, Y\n",
    "\n",
    "\n",
    "class TextFeatureGroups(object):\n",
    "    \n",
    "    def __init__(self, base, groups, model = \"Tf-iDF\"):\n",
    "        self.base = base\n",
    "        self.groups = groups\n",
    "        self.name_to_index = {group.getName(): index for index, group in enumerate(groups)}\n",
    "       \n",
    "        base_texts = base.getTexts()\n",
    "        self.text_models = []\n",
    "        self.classifiers = []\n",
    "        for group in groups:\n",
    "            group_texts = group.getTexts()\n",
    "            total_texts = base_texts  + group_texts\n",
    "            if model == \"Tf-iDF\":\n",
    "                text_model = TfidfVectorizer(stop_words=\"english\",ngram_range = (1,2))\n",
    "            text_model.fit(total_texts)    \n",
    "            X = text_model.transform(total_texts)  \n",
    "            Y = np.array([0] * base.getSize() + [1]*group.getSize(), dtype=int)\n",
    "            classifier  = RandomForestClassifier(n_jobs=-1, max_features=\"sqrt\", n_estimators=128)\n",
    "            classifier.fit(X,Y)\n",
    "            self.classifiers.append(classifier)\n",
    "            self.text_models.append(text_model)\n",
    "    \n",
    "    \n",
    "    def reportFeatures(self, name, k=50):\n",
    "        index = self.name_to_index[name]\n",
    "        text_model = self.text_models[index]\n",
    "        classifier = self.classifiers[index]\n",
    "\n",
    "        \n",
    "        \n",
    "\n",
    "    def getGroup(self,name):\n",
    "        index = self.name_to_index[name]\n",
    "        return self.group[index]\n",
    "            \n",
    "    def classify(self,name, group):\n",
    "        index = self.name_to_index[name]\n",
    "        classifier = self.classifiers[index]\n",
    "        text_model = self.text_models[index]\n",
    "        X = text_model.transform(group.getTexts())\n",
    "        return classifier.predict(X) \n",
    "        \n",
    "    \n",
    "            \n",
    "    def renderPrecisionRecall(self,colors=['r','g','b',\"y\",\"w\"], n_fold = 30):\n",
    "        classifier  = RandomForestClassifier(n_jobs=-1, max_features=\"sqrt\", n_estimators=128)\n",
    "        fig, ax = plt.subplots()\n",
    "        ax.spines['bottom'].set_color('white')\n",
    "        ax.spines['top'].set_color('white') \n",
    "        ax.spines['right'].set_color('white')\n",
    "        ax.spines['left'].set_color('white')\n",
    "        ax.tick_params(axis='x', colors='white')\n",
    "        ax.tick_params(axis='y', colors='white')\n",
    "        ax.title.set_color('white')\n",
    "        ax.yaxis.label.set_color('white')\n",
    "        ax.xaxis.label.set_color('white')\n",
    "        plt.xlim([0.0, 1.0])\n",
    "        plt.ylim([0.0, 1.05])\n",
    "        plt.xlabel('Recall')\n",
    "        plt.ylabel('Precision')\n",
    "        plt.title('Precision Recall Curve')\n",
    "\n",
    "        for g, group in enumerate(self.groups):\n",
    "\n",
    "            SCORES = np.array([])\n",
    "            LABELS = np.array([])\n",
    "            \n",
    "            \n",
    "            X = self.text_models[g].transform(self.base.getTexts()+group.getTexts())\n",
    "            Y =  np.zeros(self.base.getSize() + group.getSize(), dtype=int)\n",
    "            Y[self.base.getSize():] = 1\n",
    "            \n",
    "            sss = StratifiedShuffleSplit(Y, n_fold, random_state=randint(0,65536) )\n",
    "\n",
    "\n",
    "            for train_index, test_index in sss:\n",
    "\n",
    "                X_train, X_test = X[train_index], X[test_index]\n",
    "                Y_train, Y_test = Y[train_index], Y[test_index]\n",
    "\n",
    "                classifier.fit(X_train, Y_train)\n",
    "                score = classifier.predict_proba(X_test)[:,1]\n",
    "                SCORES = np.concatenate((SCORES, score))\n",
    "                LABELS = np.concatenate((LABELS, Y_test))\n",
    "\n",
    "\n",
    "            precision, recall, _ = precision_recall_curve(LABELS, SCORES, pos_label=1)\n",
    "            average_precision = average_precision_score(LABELS, SCORES)\n",
    "\n",
    "\n",
    "\n",
    "\n",
    "\n",
    "\n",
    "            positive_train = np.count_nonzero(Y_train)\n",
    "            positive_test = np.count_nonzero(Y_test)\n",
    "            normal_train = Y_train.shape[0] - positive_train\n",
    "            normal_test = Y_test.shape[0] - positive_test\n",
    "\n",
    "\n",
    "            print(\"{} Normal and {} {} in Training Data\".format(normal_train,positive_train,group.getName()))\n",
    "            print(\"{} Normal and {} {} in Test Data\\n\".format(normal_test,positive_test,group.getName()))\n",
    "            plt.plot(recall, precision, label=group.getName() , color=colors[g],linewidth=3)\n",
    "\n",
    "        plt.legend(loc=\"lower right\")\n",
    "        plt.show()\n",
    "\n",
    "            \n",
    "        \n",
    "        \n",
    "            \n",
    "        \n",
    "\n",
    "            \n",
    "tfidf_groups = TextFeatureGroups(regular_group, [bipolar_all,BPD_all])\n",
    "tfidf_groups.renderPrecisionRecall()\n",
    "\n",
    "\n",
    "\n"
   ]
  },
  {
   "cell_type": "code",
   "execution_count": 217,
   "metadata": {
    "collapsed": false
   },
   "outputs": [
    {
     "name": "stdout",
     "output_type": "stream",
     "text": [
      "===== The Tf-iDF false positive experiment on disorder experts =====\n",
      "\n",
      "9 out of 13 BPD experts are mis-calssified as patients. Accuracy 0.3076923076923077\n",
      "10 out of 11 bipolar experts are mis-calssified as patients. Accuracy 0.09090909090909091\n"
     ]
    }
   ],
   "source": [
    "#Expert experiemnt of Tf-iDF kinda sucks\n",
    "bipolar_experts =  Group(\"BPD\", dbName= \"patients\", collectionName=\"bipolar_experts\")\n",
    "BPD_experts =  Group(\"bipolar\", dbName=\"idea\", collectionName=\"coach_tweets_emotion\")\n",
    "\n",
    "\n",
    "\n",
    "bipolar_result = tfidf_groups.classify(\"Bipolar\", bipolar_experts)\n",
    "BPD_result = tfidf_groups.classify(\"BPD\", BPD_experts )\n",
    "\n",
    "\n",
    "\n",
    "\n",
    "\n",
    "\n",
    "print(\"===== The Tf-iDF false positive experiment on disorder experts =====\\n\")\n",
    "\n",
    "misclassified = np.sum(bipolar_result)\n",
    "size = bipolar_experts.getSize()\n",
    "name = bipolar_experts.getName()\n",
    "\n",
    "print(\"{} out of {} {} experts are mis-calssified as patients. Accuracy {}\".format(np.sum(bipolar_result), size, name, (size-misclassified)/size))\n",
    "misclassified = np.sum(BPD_result)\n",
    "size = BPD_experts.getSize()\n",
    "name = BPD_experts.getName()\n",
    "print(\"{} out of {} {} experts are mis-calssified as patients. Accuracy {}\".format(np.sum(BPD_result), size, name, (size-misclassified)/size))\n",
    "\n",
    "\n",
    "\n"
   ]
  },
  {
   "cell_type": "code",
   "execution_count": 221,
   "metadata": {
    "collapsed": false
   },
   "outputs": [
    {
     "name": "stdout",
     "output_type": "stream",
     "text": [
      "===== The cross-valadation experiment on disorder experts =====\n",
      "\n",
      "142 out of 203 BPD experts are mis-calssified as patients. Accuracy 0.30049261083743845\n",
      "152 out of 278 Bipolar experts are mis-calssified as patients. Accuracy 0.45323741007194246\n"
     ]
    }
   ],
   "source": [
    "#Cross classification of Tf-iDF\n",
    "#tfidf_groups_clean = TextFeatureGroups(regular_group, [bipolar_group_clean,BPD_group_clean])\n",
    "#tfidf_groups_clean.renderPrecisionRecall()\n",
    "\n",
    "bipolar_result = tfidf_groups_clean.classify(\"Bipolar\", BPD_group_clean)\n",
    "BPD_result = tfidf_groups_clean.classify(\"BPD\", bipolar_group_clean)\n",
    "\n",
    "#print(bipolar_result)\n",
    "#print(BPD_result)\n",
    "\n",
    "\n",
    "\n",
    "\n",
    "print(\"===== The cross-valadation experiment on disorder experts =====\\n\")\n",
    "\n",
    "misclassified = np.sum(bipolar_result)\n",
    "size = BPD_group_clean.getSize()\n",
    "name = BPD_group_clean.getName()\n",
    "\n",
    "print(\"{} out of {} {} experts are mis-calssified as patients. Accuracy {}\".format(np.sum(bipolar_result), size, name, (size-misclassified)/size))\n",
    "misclassified = np.sum(BPD_result)\n",
    "size = bipolar_group_clean.getSize()\n",
    "name = bipolar_group_clean.getName()\n",
    "print(\"{} out of {} {} experts are mis-calssified as patients. Accuracy {}\".format(np.sum(BPD_result), size, name, (size-misclassified)/size))\n",
    "\n",
    "\n",
    "\n",
    "\n",
    "\n"
   ]
  },
  {
   "cell_type": "code",
   "execution_count": 5,
   "metadata": {
    "collapsed": true
   },
   "outputs": [],
   "source": [
    "#Individual pattern of life feature performance\n",
    "\n",
    "\n",
    "class FeatureTransformer(object):\n",
    "    def __init__(self, groups,groups_names):\n",
    "        self.groups = groups\n",
    "        self.groups_names = groups_names\n",
    "        self.methods_mappper = {\"hello\":self.hello }\n",
    "        self.total_texts = []\n",
    "        for group in groups:\n",
    "            for timeSeries in group:\n",
    "                self.total_texts.append(\"\\n\".join(timeSeries[\"text\"].value))\n",
    "        self.tf_idf_model = TfidfVectorizer(stop_words=\"english\",ngram_range = (1,2))\n",
    "        self.tf_idf_model.fit(self.total_texts)\n",
    "                \n",
    "        \n",
    "        \n",
    "    def transform_by(self, method_names):\n",
    "        sample_x = self.grpups[0][0]\n",
    "        features_length = 0\n",
    "    \n",
    "        for method_name in method_names:\n",
    "            \n",
    "\n",
    "            \n",
    "            \n",
    "            \n",
    "            method = self.methods_mappper[method_name]\n",
    "            method()\n",
    "\n",
    "def getLabledData(groups, methods):\n",
    "    features = extractFeature(groups,methods)\n",
    "    Ylist = []\n",
    "    for label, usersData in enumerate(groups):\n",
    "        Y = np.zeros(len(usersData),dtype=int)\n",
    "        Y[:] = label\n",
    "        Ylist.append(Y)\n",
    "        \n",
    "    return list(zip(features, Ylist)), feature_name\n",
    "\n"
   ]
  },
  {
   "cell_type": "code",
   "execution_count": 6,
   "metadata": {
    "collapsed": true
   },
   "outputs": [],
   "source": [
    "#Expert experiment to product best combinations of pol"
   ]
  },
  {
   "cell_type": "code",
   "execution_count": null,
   "metadata": {
    "collapsed": true
   },
   "outputs": [],
   "source": [
    "#Cross Classification of POL"
   ]
  },
  {
   "cell_type": "code",
   "execution_count": 29,
   "metadata": {
    "collapsed": false
   },
   "outputs": [
    {
     "data": {
      "text/plain": [
       "\"I'm going to be the bigger person and not talk about you, but just know I do truly hate you.\""
      ]
     },
     "execution_count": 29,
     "metadata": {},
     "output_type": "execute_result"
    }
   ],
   "source": [
    "#getText = lambda timeSeries : \"\\n\".join(timeSeries[\"text\"].str()\n",
    "bipolar_groups[0][0][\"text\"].values[1]\n"
   ]
  },
  {
   "cell_type": "code",
   "execution_count": 37,
   "metadata": {
    "collapsed": false
   },
   "outputs": [
    {
     "ename": "AttributeError",
     "evalue": "can't set attribute",
     "output_type": "error",
     "traceback": [
      "\u001b[1;31m---------------------------------------------------------------------------\u001b[0m",
      "\u001b[1;31mAttributeError\u001b[0m                            Traceback (most recent call last)",
      "\u001b[1;32m/usr/local/lib/python3.4/dist-packages/pandas/core/generic.py\u001b[0m in \u001b[0;36m__setattr__\u001b[1;34m(self, name, value)\u001b[0m\n\u001b[0;32m   2178\u001b[0m                 \u001b[1;32melse\u001b[0m\u001b[1;33m:\u001b[0m\u001b[1;33m\u001b[0m\u001b[0m\n\u001b[1;32m-> 2179\u001b[1;33m                     \u001b[0mobject\u001b[0m\u001b[1;33m.\u001b[0m\u001b[0m__setattr__\u001b[0m\u001b[1;33m(\u001b[0m\u001b[0mself\u001b[0m\u001b[1;33m,\u001b[0m \u001b[0mname\u001b[0m\u001b[1;33m,\u001b[0m \u001b[0mvalue\u001b[0m\u001b[1;33m)\u001b[0m\u001b[1;33m\u001b[0m\u001b[0m\n\u001b[0m\u001b[0;32m   2180\u001b[0m             \u001b[1;32mexcept\u001b[0m \u001b[1;33m(\u001b[0m\u001b[0mAttributeError\u001b[0m\u001b[1;33m,\u001b[0m \u001b[0mTypeError\u001b[0m\u001b[1;33m)\u001b[0m\u001b[1;33m:\u001b[0m\u001b[1;33m\u001b[0m\u001b[0m\n",
      "\u001b[1;31mAttributeError\u001b[0m: can't set attribute",
      "\nDuring handling of the above exception, another exception occurred:\n",
      "\u001b[1;31mAttributeError\u001b[0m                            Traceback (most recent call last)",
      "\u001b[1;32m<ipython-input-37-bd65bfde0b95>\u001b[0m in \u001b[0;36m<module>\u001b[1;34m()\u001b[0m\n\u001b[0;32m      1\u001b[0m \u001b[0mx\u001b[0m \u001b[1;33m=\u001b[0m \u001b[0mbipolar_groups\u001b[0m\u001b[1;33m[\u001b[0m\u001b[1;36m0\u001b[0m\u001b[1;33m]\u001b[0m\u001b[1;33m[\u001b[0m\u001b[1;36m0\u001b[0m\u001b[1;33m]\u001b[0m\u001b[1;33m\u001b[0m\u001b[0m\n\u001b[1;32m----> 2\u001b[1;33m \u001b[0mx\u001b[0m\u001b[1;33m[\u001b[0m\u001b[1;34m\"text\"\u001b[0m\u001b[1;33m]\u001b[0m\u001b[1;33m.\u001b[0m\u001b[0mvalues\u001b[0m \u001b[1;33m+=\u001b[0m \u001b[0mx\u001b[0m\u001b[1;33m[\u001b[0m\u001b[1;34m\"text\"\u001b[0m\u001b[1;33m]\u001b[0m\u001b[1;33m.\u001b[0m\u001b[0mvalues\u001b[0m\u001b[1;33m\u001b[0m\u001b[0m\n\u001b[0m",
      "\u001b[1;32m/usr/local/lib/python3.4/dist-packages/pandas/core/generic.py\u001b[0m in \u001b[0;36m__setattr__\u001b[1;34m(self, name, value)\u001b[0m\n\u001b[0;32m   2179\u001b[0m                     \u001b[0mobject\u001b[0m\u001b[1;33m.\u001b[0m\u001b[0m__setattr__\u001b[0m\u001b[1;33m(\u001b[0m\u001b[0mself\u001b[0m\u001b[1;33m,\u001b[0m \u001b[0mname\u001b[0m\u001b[1;33m,\u001b[0m \u001b[0mvalue\u001b[0m\u001b[1;33m)\u001b[0m\u001b[1;33m\u001b[0m\u001b[0m\n\u001b[0;32m   2180\u001b[0m             \u001b[1;32mexcept\u001b[0m \u001b[1;33m(\u001b[0m\u001b[0mAttributeError\u001b[0m\u001b[1;33m,\u001b[0m \u001b[0mTypeError\u001b[0m\u001b[1;33m)\u001b[0m\u001b[1;33m:\u001b[0m\u001b[1;33m\u001b[0m\u001b[0m\n\u001b[1;32m-> 2181\u001b[1;33m                 \u001b[0mobject\u001b[0m\u001b[1;33m.\u001b[0m\u001b[0m__setattr__\u001b[0m\u001b[1;33m(\u001b[0m\u001b[0mself\u001b[0m\u001b[1;33m,\u001b[0m \u001b[0mname\u001b[0m\u001b[1;33m,\u001b[0m \u001b[0mvalue\u001b[0m\u001b[1;33m)\u001b[0m\u001b[1;33m\u001b[0m\u001b[0m\n\u001b[0m\u001b[0;32m   2182\u001b[0m \u001b[1;33m\u001b[0m\u001b[0m\n\u001b[0;32m   2183\u001b[0m     \u001b[1;31m#----------------------------------------------------------------------\u001b[0m\u001b[1;33m\u001b[0m\u001b[1;33m\u001b[0m\u001b[0m\n",
      "\u001b[1;31mAttributeError\u001b[0m: can't set attribute"
     ]
    }
   ],
   "source": [
    "x = bipolar_groups[0][0]\n",
    "x[\"text\"].values += x[\"text\"].values"
   ]
  },
  {
   "cell_type": "code",
   "execution_count": 41,
   "metadata": {
    "collapsed": false
   },
   "outputs": [
    {
     "data": {
      "text/plain": [
       "TfidfVectorizer(analyzer='word', binary=False, decode_error='strict',\n",
       "        dtype=<class 'numpy.int64'>, encoding='utf-8', input='content',\n",
       "        lowercase=True, max_df=1.0, max_features=None, min_df=1,\n",
       "        ngram_range=(1, 2), norm='l2', preprocessor=None, smooth_idf=True,\n",
       "        stop_words='english', strip_accents=None, sublinear_tf=False,\n",
       "        token_pattern='(?u)\\\\b\\\\w\\\\w+\\\\b', tokenizer=None, use_idf=True,\n",
       "        vocabulary=None)"
      ]
     },
     "execution_count": 41,
     "metadata": {},
     "output_type": "execute_result"
    }
   ],
   "source": [
    "total_text = []\n",
    "for group in bipolar_groups:\n",
    "    for timeSeries in group:\n",
    "        total_text.append(\"\\n\".join(timeSeries[\"text\"].values))\n",
    "        \n",
    "\n",
    "model = TfidfVectorizer(stop_words=\"english\",ngram_range = (1,2))\n",
    "model.fit(total_text)\n"
   ]
  },
  {
   "cell_type": "code",
   "execution_count": 46,
   "metadata": {
    "collapsed": false
   },
   "outputs": [
    {
     "data": {
      "text/plain": [
       "<2035x5181435 sparse matrix of type '<class 'numpy.float64'>'\n",
       "\twith 24789 stored elements in Compressed Sparse Row format>"
      ]
     },
     "execution_count": 46,
     "metadata": {},
     "output_type": "execute_result"
    }
   ],
   "source": [
    "x_text = bipolar_groups[0][0][\"text\"].values\n",
    "model.transform(x_text)"
   ]
  },
  {
   "cell_type": "code",
   "execution_count": 47,
   "metadata": {
    "collapsed": false
   },
   "outputs": [
    {
     "data": {
      "text/plain": [
       "5181435"
      ]
     },
     "execution_count": 47,
     "metadata": {},
     "output_type": "execute_result"
    }
   ],
   "source": [
    "len(model.vocabulary_)"
   ]
  },
  {
   "cell_type": "code",
   "execution_count": 52,
   "metadata": {
    "collapsed": false
   },
   "outputs": [],
   "source": [
    "(a,b), c = (1,2),3"
   ]
  },
  {
   "cell_type": "code",
   "execution_count": 104,
   "metadata": {
    "collapsed": false
   },
   "outputs": [
    {
     "data": {
      "text/plain": [
       "<14x4634409 sparse matrix of type '<class 'numpy.float64'>'\n",
       "\twith 0 stored elements in Compressed Sparse Row format>"
      ]
     },
     "execution_count": 104,
     "metadata": {},
     "output_type": "execute_result"
    }
   ],
   "source": [
    "model.transform(\"Hello, hahahah\")"
   ]
  },
  {
   "cell_type": "code",
   "execution_count": 107,
   "metadata": {
    "collapsed": false
   },
   "outputs": [
    {
     "data": {
      "text/plain": [
       "<2x4634409 sparse matrix of type '<class 'numpy.float64'>'\n",
       "\twith 5 stored elements in Compressed Sparse Row format>"
      ]
     },
     "execution_count": 107,
     "metadata": {},
     "output_type": "execute_result"
    }
   ],
   "source": [
    "model.transform([\"Hello\\n, hahahah\",\"Jesus Christ\"])"
   ]
  },
  {
   "cell_type": "code",
   "execution_count": 139,
   "metadata": {
    "collapsed": false
   },
   "outputs": [
    {
     "ename": "NameError",
     "evalue": "name 'index' is not defined",
     "output_type": "error",
     "traceback": [
      "\u001b[1;31m---------------------------------------------------------------------------\u001b[0m",
      "\u001b[1;31mNameError\u001b[0m                                 Traceback (most recent call last)",
      "\u001b[1;32m<ipython-input-139-caf7e7bf96a7>\u001b[0m in \u001b[0;36m<module>\u001b[1;34m()\u001b[0m\n\u001b[1;32m----> 1\u001b[1;33m \u001b[0mindex\u001b[0m\u001b[1;33m\u001b[0m\u001b[0m\n\u001b[0m",
      "\u001b[1;31mNameError\u001b[0m: name 'index' is not defined"
     ]
    }
   ],
   "source": [
    "index"
   ]
  },
  {
   "cell_type": "code",
   "execution_count": 164,
   "metadata": {
    "collapsed": true
   },
   "outputs": [],
   "source": [
    "class myList(list):\n",
    "    def __init__(self,a):\n",
    "        self.data = a\n",
    "    def __add__(self,other):\n",
    "        return self.data + other.data\n",
    "    \n",
    "    def __repr__(self):\n",
    "        return repr(self.data)"
   ]
  },
  {
   "cell_type": "code",
   "execution_count": 166,
   "metadata": {
    "collapsed": false
   },
   "outputs": [],
   "source": [
    "a  = myList([1,2,3])\n",
    "b = myList([4,5,6])"
   ]
  },
  {
   "cell_type": "code",
   "execution_count": 169,
   "metadata": {
    "collapsed": false
   },
   "outputs": [],
   "source": [
    "a+=b"
   ]
  },
  {
   "cell_type": "code",
   "execution_count": 170,
   "metadata": {
    "collapsed": false
   },
   "outputs": [
    {
     "data": {
      "text/plain": [
       "[1, 2, 3]"
      ]
     },
     "execution_count": 170,
     "metadata": {},
     "output_type": "execute_result"
    }
   ],
   "source": [
    "a"
   ]
  },
  {
   "cell_type": "code",
   "execution_count": 213,
   "metadata": {
    "collapsed": false
   },
   "outputs": [
    {
     "data": {
      "text/plain": [
       "3"
      ]
     },
     "execution_count": 213,
     "metadata": {},
     "output_type": "execute_result"
    }
   ],
   "source": [
    "3"
   ]
  },
  {
   "cell_type": "code",
   "execution_count": null,
   "metadata": {
    "collapsed": true
   },
   "outputs": [],
   "source": []
  }
 ],
 "metadata": {
  "kernelspec": {
   "display_name": "Python 3",
   "language": "python",
   "name": "python3"
  },
  "language_info": {
   "codemirror_mode": {
    "name": "ipython",
    "version": 3
   },
   "file_extension": ".py",
   "mimetype": "text/x-python",
   "name": "python",
   "nbconvert_exporter": "python",
   "pygments_lexer": "ipython3",
   "version": "3.4.3"
  }
 },
 "nbformat": 4,
 "nbformat_minor": 0
}
