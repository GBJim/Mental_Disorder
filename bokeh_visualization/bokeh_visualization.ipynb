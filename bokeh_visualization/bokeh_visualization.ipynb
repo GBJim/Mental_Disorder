{
 "cells": [
  {
   "cell_type": "code",
   "execution_count": 1,
   "metadata": {
    "collapsed": true
   },
   "outputs": [],
   "source": [
    "from bokeh.plotting import figure, HBox, output_file, show, VBox\n",
    "from bokeh.models import Range1d\n",
    "\n",
    "# create some data using python lists\n",
    "x1 = [0, 1, 2, 3, 4, 5,  6,  7, 8,   9, 10]\n",
    "y1 = [0, 8, 2, 4, 6, 9, 15, 18, 19, 25, 28]\n",
    "\n",
    "# EXERCISE: create two more data sets, x2, y2 and x3, y3, however\n",
    "# you want. Make sure the corresponding x and y data are the same length\n",
    "from math import sin\n",
    "x2 = [i/20.0 for i in range(200)]\n",
    "y2 = [sin(x) for x in x2]\n",
    "\n",
    "x3 = list(range(11))\n",
    "y3 = [x**2 for x in x3]\n",
    "\n",
    "# specify and output static HTML file\n",
    "output_file(\"scatter.html\")\n",
    "\n",
    "# EXERCISE: Plot all the sets of points on different plots p1, p2, p3.\n",
    "# Try setting `color` (or `line_color`) and `alpha` (or `line_alpha`).\n",
    "# You can also set `line_dash` and `line_width`. One example is given.\n",
    "p1 = figure(plot_width=300, plot_height=300)\n",
    "p1.line(x1, y1, size=12, color=\"red\", alpha=0.5)\n",
    "\n",
    "p2 = figure(plot_width=300, plot_height=300)\n",
    "p2.line(x2, y2, size=12, color=\"blue\", line_dash=[2, 4])\n",
    "\n",
    "p3 = figure(plot_width=300, plot_height=300)\n",
    "p3.line(x3, y3, size=12, line_color=\"orange\", line_width=3)\n",
    "\n",
    "# create a figure\n",
    "p4 = figure()\n",
    "\n",
    "# EXERCISE: add all the same renderers above, on this one plot\n",
    "p4.line(x1, y1, size=12, color=\"red\", alpha=0.5)\n",
    "p4.line(x2, y2, size=12, color=\"blue\", line_dash=[2, 4])\n",
    "p4.line(x3, y3, size=12, line_color=\"orange\", line_width=2)\n",
    "\n",
    "# show the plots arrayed in a VBox\n",
    "show(VBox(HBox(p1, p2, p3), p4))"
   ]
  },
  {
   "cell_type": "code",
   "execution_count": 2,
   "metadata": {
    "collapsed": false
   },
   "outputs": [
    {
     "name": "stdout",
     "output_type": "stream",
     "text": [
      "scatter.html   TFIDF.ipynb               TFIDF.py\r\n",
      "SmartStoplist  tfidf_keywords_finder.py  visualization.ipynb\r\n"
     ]
    }
   ],
   "source": [
    "ls"
   ]
  },
  {
   "cell_type": "code",
   "execution_count": null,
   "metadata": {
    "collapsed": true
   },
   "outputs": [],
   "source": []
  }
 ],
 "metadata": {
  "kernelspec": {
   "display_name": "Python 3",
   "language": "python",
   "name": "python3"
  },
  "language_info": {
   "codemirror_mode": {
    "name": "ipython",
    "version": 3
   },
   "file_extension": ".py",
   "mimetype": "text/x-python",
   "name": "python",
   "nbconvert_exporter": "python",
   "pygments_lexer": "ipython3",
   "version": "3.4.0"
  }
 },
 "nbformat": 4,
 "nbformat_minor": 0
}
