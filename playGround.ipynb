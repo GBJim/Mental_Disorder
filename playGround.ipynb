{
 "cells": [
  {
   "cell_type": "code",
   "execution_count": 12,
   "metadata": {
    "collapsed": true
   },
   "outputs": [],
   "source": [
    "from pymongo import MongoClient\n",
    "import numpy as np"
   ]
  },
  {
   "cell_type": "code",
   "execution_count": 19,
   "metadata": {
    "collapsed": false
   },
   "outputs": [],
   "source": [
    "def getLangRatio(dbName, collectionName):\n",
    "    \n",
    "    collection = MongoClient(\"localhost\", 27017)[dbName][collectionName]\n",
    "    cursor = collection.find()\n",
    "    user_langs = {}\n",
    "    for tweet in cursor:\n",
    "        lang = 1 if tweet[\"lang\"] == \"en\" else 0\n",
    "        user_id = tweet[\"user\"][\"id\"]\n",
    "        if user_id in user_langs:\n",
    "            user_langs[user_id].append(lang)\n",
    "        else:\n",
    "            user_langs[user_id] = [lang]\n",
    "    return user_langs"
   ]
  },
  {
   "cell_type": "code",
   "execution_count": 28,
   "metadata": {
    "collapsed": false
   },
   "outputs": [],
   "source": [
    "user_langs = getLangRatio(\"patients\", \"BPD_clean\")"
   ]
  },
  {
   "cell_type": "code",
   "execution_count": 33,
   "metadata": {
    "collapsed": false
   },
   "outputs": [],
   "source": [
    "BPD_lang_ratios = [(user_id, np.sum(langs_ratio)/len(langs_ratio)) for user_id, langs_ratio in user_langs.items()]\n"
   ]
  },
  {
   "cell_type": "code",
   "execution_count": 37,
   "metadata": {
    "collapsed": false
   },
   "outputs": [
    {
     "name": "stdout",
     "output_type": "stream",
     "text": [
      "3262241903 0.0\n",
      "944577823 0.119863013699\n",
      "269690229 0.220713609094\n",
      "2413555298 0.31308411215\n",
      "3324571407 0.32\n",
      "3263225837 0.333333333333\n",
      "3077233757 0.380952380952\n",
      "169951404 0.415136755339\n",
      "244021118 0.430107526882\n",
      "45229455 0.495652173913\n",
      "3194839751 0.5\n",
      "116439735 0.510220125786\n",
      "510585906 0.550855085509\n",
      "3227127058 0.551724137931\n",
      "374595521 0.571428571429\n",
      "2954272784 0.57215007215\n",
      "2292426456 0.6\n",
      "558473669 0.621212121212\n",
      "202200525 0.644128113879\n",
      "2936388081 0.654624277457\n",
      "49450953 0.700718525461\n",
      "2251489214 0.714285714286\n",
      "3228645394 0.717948717949\n",
      "3297759413 0.728155339806\n",
      "58007127 0.731600375822\n",
      "287681418 0.747753973739\n"
     ]
    }
   ],
   "source": [
    "BPD_lang_ratios = sorted(BPD_lang_ratios, key=lambda x: x[1])\n",
    "\n",
    "for user_id, en_ratio in BPD_lang_ratios:\n",
    "    if en_ratio < 0.75:\n",
    "        print(user_id, en_ratio)"
   ]
  },
  {
   "cell_type": "code",
   "execution_count": 38,
   "metadata": {
    "collapsed": false
   },
   "outputs": [
    {
     "name": "stdout",
     "output_type": "stream",
     "text": [
      "933392432 0.0\n",
      "153294609 0.0172705722994\n",
      "3029977273 0.0310130944176\n",
      "2827792882 0.0769230769231\n",
      "809571888 0.0880503144654\n",
      "2499362502 0.127009646302\n",
      "3367338663 0.173913043478\n",
      "1229003286 0.185840707965\n",
      "2286202992 0.188405797101\n",
      "2984096968 0.2\n",
      "3120472413 0.210365853659\n",
      "504686644 0.261935483871\n",
      "2921022655 0.317073170732\n",
      "368501489 0.354838709677\n",
      "553466344 0.385796545106\n",
      "192116423 0.39165085389\n",
      "3182719408 0.4\n",
      "1962364130 0.407407407407\n",
      "2425691041 0.425634824667\n",
      "2600004696 0.439393939394\n",
      "3041204445 0.475409836066\n",
      "70032674 0.480043149946\n",
      "3238987287 0.5\n",
      "3076152329 0.539748953975\n",
      "1015217155 0.558333333333\n",
      "962084311 0.561849710983\n",
      "1247445650 0.591133004926\n",
      "1408777951 0.593103448276\n",
      "206804977 0.608804402201\n",
      "88995343 0.612752721617\n",
      "29587967 0.61733615222\n",
      "348873140 0.617647058824\n",
      "582230868 0.624203821656\n",
      "101816365 0.625\n",
      "2751352106 0.636363636364\n",
      "2950280698 0.645161290323\n",
      "770070936 0.646706586826\n",
      "102816119 0.655367231638\n",
      "28725721 0.661290322581\n",
      "3307369534 0.666666666667\n",
      "2531462476 0.666666666667\n",
      "3322592482 0.669491525424\n",
      "457159794 0.69587628866\n",
      "52583796 0.696078431373\n",
      "2376258739 0.698305084746\n",
      "799930532 0.705882352941\n",
      "3190271468 0.706013363029\n",
      "595742207 0.709168184578\n",
      "24506740 0.718177757928\n",
      "2928946654 0.719259259259\n",
      "3139943185 0.725663716814\n",
      "2951011342 0.72602739726\n",
      "2508649198 0.727272727273\n",
      "2820185271 0.730538922156\n",
      "387551744 0.732994923858\n",
      "482865387 0.7375\n",
      "243270552 0.738339920949\n",
      "2971884153 0.739682539683\n",
      "2332903002 0.742807323452\n"
     ]
    }
   ],
   "source": [
    "user_langs = getLangRatio(\"patients\", \"bipolar_clean\")\n",
    "bipolar_lang_ratios = [(user_id, np.sum(langs_ratio)/len(langs_ratio)) for user_id, langs_ratio in user_langs.items()]\n",
    "bipolar_lang_ratios = sorted(bipolar_lang_ratios, key=lambda x: x[1])\n",
    "\n",
    "for user_id, en_ratio in bipolar_lang_ratios:\n",
    "    if en_ratio < 0.75:\n",
    "        print(user_id, en_ratio)"
   ]
  },
  {
   "cell_type": "code",
   "execution_count": null,
   "metadata": {
    "collapsed": true
   },
   "outputs": [],
   "source": [
    "lang_ratios"
   ]
  }
 ],
 "metadata": {
  "kernelspec": {
   "display_name": "Python 3",
   "language": "python",
   "name": "python3"
  },
  "language_info": {
   "codemirror_mode": {
    "name": "ipython",
    "version": 3
   },
   "file_extension": ".py",
   "mimetype": "text/x-python",
   "name": "python",
   "nbconvert_exporter": "python",
   "pygments_lexer": "ipython3",
   "version": "3.4.3"
  }
 },
 "nbformat": 4,
 "nbformat_minor": 0
}
